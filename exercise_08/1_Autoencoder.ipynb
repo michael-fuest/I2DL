{
 "cells": [
  {
   "attachments": {},
   "cell_type": "markdown",
   "metadata": {
    "id": "9CALuVmNMNkM"
   },
   "source": [
    "# Autoencoder for MNIST\n",
    "\n",
    "Welcome to this notebook where you'll be training an autoencoder using the MNIST dataset, which comprises handwritten digits. This exercise is the last where we present you with a structured skeleton to work with. However, in following exercises, we will only provide you with the dataset, task, and a test scenario, enabling you to test your skills and compete with your peers on our leaderboards. Get ready to dive in and showcase your deep learning expertise!\n",
    "\n",
    "\n",
    "## Your task:\n",
    "\n",
    "Autoencoders have various applications, including unsupervised pretraining using unlabeled data, followed by fine-tuning the encoder with labeled data. This approach can greatly enhance performance when there is only a little amount of labeled data but a lot of unlabeled data available.\n",
    "\n",
    "In this exercise, you will use the MNIST dataset, consisting of 60,000 images of handwritten digits. However, not all the image labels are available to you. Your first objective is to train an autoencoder to accurately reproduce these unlabeled images.\n",
    "\n",
    "Afterwards, you will transfer the weights of the pretrained encoder and perform fine-tuning on a classifier using the available labeled data. This technique is commonly known as **transfer learning**, which allows you to leverage the knowledge gained from the autoencoder to improve the classification of the handwritten digits."
   ]
  },
  {
   "cell_type": "code",
   "execution_count": 140,
   "metadata": {
    "id": "XcU9f4APMNkT",
    "ExecuteTime": {
     "end_time": "2023-12-07T15:16:44.701985Z",
     "start_time": "2023-12-07T15:16:44.676565Z"
    }
   },
   "outputs": [
    {
     "name": "stdout",
     "output_type": "stream",
     "text": [
      "The autoreload extension is already loaded. To reload it, use:\n",
      "  %reload_ext autoreload\n"
     ]
    }
   ],
   "source": [
    "# For automatic file reloading as usual\n",
    "%load_ext autoreload\n",
    "%autoreload 2\n",
    "%matplotlib inline"
   ]
  },
  {
   "attachments": {},
   "cell_type": "markdown",
   "metadata": {
    "id": "Xb9dFU2EMNkW"
   },
   "source": [
    "## (Optional) Mount folder in Colab\n",
    "\n",
    "Uncomment the following cell to mount your gdrive if you are using the notebook in google colab:"
   ]
  },
  {
   "cell_type": "code",
   "execution_count": 141,
   "metadata": {
    "id": "TRr4E4YVMNkW",
    "ExecuteTime": {
     "end_time": "2023-12-07T15:16:46.071633Z",
     "start_time": "2023-12-07T15:16:46.051368Z"
    }
   },
   "outputs": [
    {
     "data": {
      "text/plain": "\"\\nfrom google.colab import drive\\nimport os\\ngdrive_path='/content/gdrive/MyDrive/i2dl/exercise_08'\\n\\n# This will mount your google drive under 'MyDrive'\\ndrive.mount('/content/gdrive', force_remount=True)\\n# In order to access the files in this notebook we have to navigate to the correct folder\\nos.chdir(gdrive_path)\\n# Check manually if all files are present\\n\""
     },
     "execution_count": 141,
     "metadata": {},
     "output_type": "execute_result"
    }
   ],
   "source": [
    "# Use the following lines if you want to use Google Colab\n",
    "# We presume you created a folder \"i2dl\" within your main drive folder, and put the exercise there.\n",
    "# NOTE: terminate all other colab sessions that use GPU!\n",
    "# NOTE 2: Make sure the correct exercise folder (e.g exercise_08) is given.\n",
    "\n",
    "# from google.colab import drive\n",
    "# import os\n",
    "\n",
    "\"\"\"\n",
    "from google.colab import drive\n",
    "import os\n",
    "gdrive_path='/content/gdrive/MyDrive/i2dl/exercise_08'\n",
    "\n",
    "# This will mount your google drive under 'MyDrive'\n",
    "drive.mount('/content/gdrive', force_remount=True)\n",
    "# In order to access the files in this notebook we have to navigate to the correct folder\n",
    "os.chdir(gdrive_path)\n",
    "# Check manually if all files are present\n",
    "\"\"\""
   ]
  },
  {
   "attachments": {},
   "cell_type": "markdown",
   "metadata": {
    "id": "JzDQg-kDMNkY"
   },
   "source": [
    "### Set up PyTorch environment in colab\n",
    "- (OPTIONAL) Enable GPU via Runtime --> Change runtime type --> GPU\n",
    "- Uncomment the following cell if you are using the notebook in google colab:"
   ]
  },
  {
   "cell_type": "code",
   "execution_count": 142,
   "metadata": {
    "id": "pIUdsXeXMNkZ",
    "ExecuteTime": {
     "end_time": "2023-12-07T15:16:47.069381Z",
     "start_time": "2023-12-07T15:16:47.050804Z"
    }
   },
   "outputs": [],
   "source": [
    "# Optional: install correct libraries in google colab\n",
    "# !python -m pip install torch==1.11.0+cu113 torchvision==0.12.0+cu113 torchtext==0.12.0+cu113 torchaudio==0.12.0+cu113 -f https://download.pytorch.org/whl/torch_stable.html\n",
    "# !python -m pip install tensorboard==2.8.0 > /dev/null\n",
    "# !python -m pip install pytorch-lightning==1.6.0"
   ]
  },
  {
   "attachments": {},
   "cell_type": "markdown",
   "metadata": {
    "id": "hEDWAZ7-ZA4E"
   },
   "source": [
    "# Imports"
   ]
  },
  {
   "cell_type": "code",
   "execution_count": 143,
   "metadata": {
    "id": "dJCiVLV5o9QO",
    "ExecuteTime": {
     "end_time": "2023-12-07T15:16:48.517871Z",
     "start_time": "2023-12-07T15:16:48.503496Z"
    }
   },
   "outputs": [],
   "source": [
    "import numpy as np\n",
    "import matplotlib.pyplot as plt\n",
    "from pathlib import Path\n",
    "import os, sys\n",
    "import shutil\n",
    "import torch\n",
    "import torch.nn as nn\n",
    "from torchvision import transforms\n",
    "from exercise_code.image_folder_dataset import ImageFolderDataset\n",
    "from torch.utils.tensorboard import SummaryWriter\n",
    "from time import sleep\n",
    "from tqdm import tqdm\n",
    "from exercise_code.tests.base_tests import bcolors\n",
    "\n",
    "torch.manual_seed(42)\n",
    "\n",
    "os.environ['KMP_DUPLICATE_LIB_OK']='True' # To prevent the kernel from dying."
   ]
  },
  {
   "attachments": {},
   "cell_type": "markdown",
   "metadata": {
    "id": "dvaj6myXS7nN"
   },
   "source": [
    "<div class=\"alert alert-warning\">\n",
    "    <h3>Note: Google Colab</h3>\n",
    "    <p>\n",
    "In case you don't have a GPU, you can run this notebook on Google Colab where you can access a GPU for free, but, of course, you can also run this notebook on your CPU.\n",
    "         </p>\n",
    "</div>"
   ]
  },
  {
   "cell_type": "code",
   "execution_count": 144,
   "metadata": {
    "id": "VWgm75NnS9hr",
    "ExecuteTime": {
     "end_time": "2023-12-07T15:16:50.469771Z",
     "start_time": "2023-12-07T15:16:50.452489Z"
    }
   },
   "outputs": [
    {
     "name": "stdout",
     "output_type": "stream",
     "text": [
      "You are using the following device:  cpu\n"
     ]
    }
   ],
   "source": [
    "device = torch.device(\"cuda\" if torch.cuda.is_available() else \"cpu\")\n",
    "print('You are using the following device: ', device)"
   ]
  },
  {
   "attachments": {},
   "cell_type": "markdown",
   "metadata": {
    "id": "Pm_rTAPnpsUo"
   },
   "source": [
    "## Setup TensorBoard\n",
    "\n",
    "In the previous exercise (Exercise 07), you learned how to use TensorBoard effectively. Let's use it again to enhance the convenience of debugging your network and the training process. Throughout this notebook, feel free to implement additional logs or visualizations into your TensorBoard, further improving your analysis and understanding of the network's behavior. "
   ]
  },
  {
   "cell_type": "code",
   "execution_count": 145,
   "metadata": {
    "id": "QbAJFyHkMNke",
    "ExecuteTime": {
     "end_time": "2023-12-07T15:16:51.994099Z",
     "start_time": "2023-12-07T15:16:51.972267Z"
    }
   },
   "outputs": [],
   "source": [
    "################# COLAB ONLY #################\n",
    "# %load_ext tensorboard\n",
    "# %tensorboard --logdir=./ --port 6006\n",
    "\n",
    "# Use the cmd for less trouble, if you can. From the working directory, run: tensorboard --logdir=./ --port 6006"
   ]
  },
  {
   "attachments": {},
   "cell_type": "markdown",
   "metadata": {
    "id": "t-Yt2KRiMNkf"
   },
   "source": [
    "# 1. The MNIST Dataset\n",
    "\n",
    "First, let's download the MNIST dataset. As mentioned at the beginning of this notebook, MNIST is a dataset of 60,000 images depicting handwritten digits. However, labeling such a large dataset can be a costly process, leaving us in a challenging situation.\n",
    "\n",
    "To overcome this, a practical approach is to label a small subset of the images. Let's consider a scenario where you have hired another student to perform the labeling task for you. After some time, you have been provided with 300 labeled images. Out of these, 100 images will be used for training, another 100 for validation, and the remaining 100 for testing. Undoubtedly, this poses a challenge due to the limited number of labeled samples.\n",
    "\n",
    "Now, you have the flexibility to define any transforms that you deem necessary, either at this point or at a later stage. However, it's important to note that during the final evaluation on the server, no transformations will be applied to the test set.\n",
    "\n",
    "Feel free to experiment with various transforms as you proceed (you can also pass without any transforms). \n",
    "\n",
    "\n",
    "**Note**: We do **not** apply any transformations or normalization to the test set at the time of final evaluation on our server."
   ]
  },
  {
   "cell_type": "code",
   "execution_count": 146,
   "metadata": {
    "id": "U5_eopjbMNkf",
    "pycharm": {
     "name": "#%%\n"
    },
    "ExecuteTime": {
     "end_time": "2023-12-07T15:16:53.422654Z",
     "start_time": "2023-12-07T15:16:53.287682Z"
    }
   },
   "outputs": [
    {
     "name": "stdout",
     "output_type": "stream",
     "text": [
      "Found dataset folder. Skipped downloading. If you face issues, please re-download the dataset using\n",
      "'--force_download=True'\n",
      "https://i2dl.vc.in.tum.de/static/data/mnist.zip\n",
      "Found dataset folder. Skipped downloading. If you face issues, please re-download the dataset using\n",
      "'--force_download=True'\n",
      "https://i2dl.vc.in.tum.de/static/data/mnist.zip\n",
      "Found dataset folder. Skipped downloading. If you face issues, please re-download the dataset using\n",
      "'--force_download=True'\n",
      "https://i2dl.vc.in.tum.de/static/data/mnist.zip\n",
      "Found dataset folder. Skipped downloading. If you face issues, please re-download the dataset using\n",
      "'--force_download=True'\n",
      "https://i2dl.vc.in.tum.de/static/data/mnist.zip\n",
      "Found dataset folder. Skipped downloading. If you face issues, please re-download the dataset using\n",
      "'--force_download=True'\n",
      "https://i2dl.vc.in.tum.de/static/data/mnist.zip\n"
     ]
    }
   ],
   "source": [
    "########################################################################\n",
    "# TODO: Feel free to define transforms (Only data augmentation)        #\n",
    "########################################################################\n",
    "\n",
    "transform = transforms.Compose([\n",
    "    #transforms.GaussianBlur(3),\n",
    "    #transforms.RandomHorizontalFlip(),\n",
    "    #transforms.RandomVerticalFlip(),\n",
    "    #transforms.ToTensor(),\n",
    "])\n",
    "\n",
    "\n",
    "########################################################################\n",
    "#                           END OF YOUR CODE                           #\n",
    "########################################################################\n",
    "\n",
    "i2dl_exercises_path = os.path.dirname(os.path.abspath(os.getcwd()))\n",
    "mnist_root = os.path.join(i2dl_exercises_path, \"datasets\", \"mnist\")\n",
    "\n",
    "train_100_dataset = ImageFolderDataset(root=mnist_root,images='train_images.pt',labels='train_labels.pt',force_download=False,verbose=True,transform=transform)\n",
    "val_100_dataset = ImageFolderDataset(root=mnist_root,images='val_images.pt',labels='val_labels.pt',force_download=False,verbose=True,transform=transform)\n",
    "test_100_dataset = ImageFolderDataset(root=mnist_root,images='test_images.pt',labels='test_labels.pt',force_download=False,verbose=True,transform=transform)\n",
    "\n",
    "# We also set up the unlabeled images which we will use later\n",
    "unlabeled_train = ImageFolderDataset(root=mnist_root,images='unlabeled_train_images.pt',force_download=False,verbose=True,transform=transform)\n",
    "unlabeled_val = ImageFolderDataset(root=mnist_root,images='unlabeled_val_images.pt',force_download=False,verbose=True,transform=transform)\n",
    "\n"
   ]
  },
  {
   "attachments": {},
   "cell_type": "markdown",
   "metadata": {
    "id": "zwrT1ckAMNkg"
   },
   "source": [
    "The dataset consists of tuples of 28x28 pixel PIL images and a label that is an integer from 0 to 9. \n",
    "\n",
    "Let's turn a few of the images into numpy arrays, to look at their shape and visualize them and see if the labels we paid for are correct."
   ]
  },
  {
   "cell_type": "code",
   "execution_count": 147,
   "metadata": {
    "id": "k7ct1J2CMNkh",
    "ExecuteTime": {
     "end_time": "2023-12-07T15:16:55.779640Z",
     "start_time": "2023-12-07T15:16:55.099822Z"
    }
   },
   "outputs": [
    {
     "name": "stdout",
     "output_type": "stream",
     "text": [
      "The shape of our greyscale images:  (28, 28)\n"
     ]
    },
    {
     "data": {
      "text/plain": "<Figure size 1600x1600 with 10 Axes>",
      "image/png": "[encoded data removed]"
     },
     "metadata": {},
     "output_type": "display_data"
    }
   ],
   "source": [
    "plt.rcParams['figure.figsize'] = (16,16) # Make the figures a bit bigger\n",
    "\n",
    "indices_arr = [83, 98, 92, 99, 78, 97, 90, 95, 93, 96]\n",
    "for i, index in enumerate(indices_arr):\n",
    "    image = np.array(train_100_dataset[index][0].squeeze()) # get the image of the data sample\n",
    "    label = train_100_dataset[index][1] # get the label of the data sample\n",
    "    plt.subplot(1, 10, i + 1)\n",
    "    plt.imshow(image, cmap='gray', interpolation='none')\n",
    "    plt.title(\"Class {}\".format(label))\n",
    "    \n",
    "plt.tight_layout()\n",
    "print('The shape of our greyscale images: ', image.shape)"
   ]
  },
  {
   "attachments": {},
   "cell_type": "markdown",
   "metadata": {
    "id": "V9sz_lHyqJoj"
   },
   "source": [
    "<div class=\"alert alert-warning\">\n",
    "    <h3>Note: Starting Simple</h3>\n",
    "    <p>\n",
    "Regardless of the size of the dataset, the first step is to evaluate the performance of a simple classifier. It is advisable to always start with a straightforward approach when tackling a problem and gradually build upon it to determine which changes yield improvements.</p>\n",
    "</div>\n",
    "\n",
    "# 2. A Simple Classifier\n",
    "\n",
    "In `exercise_code/models.py`, we prepared all classes for you, which you will finalize throughout the notebook to build an Autoencoder and an image classifier with PyTorch.\n",
    "\n",
    "<!-- In case image does not show, uncomment the following:\n",
    " ![network_split](img/network_split.png) \n",
    " -->\n",
    "<img name=\"network_split\" src=\"https://drive.google.com/uc?id=1Eu6C7UrYeTy_lqOLcnStGVYTBL8gfNoz\">\n",
    "\n",
    "\n",
    "## 2.1 The Encoder\n",
    "\n",
    "Unlike previous models, we are going to split up the model into two parts: the `encoder` and the `classifier`. The `classifier` has a fixed task, generating predictions given a one-dimensional input. On the other hand, the `encoder`'s task is to extract meaningful information from the input, enabling the classifier to make accurate decisions. \n",
    "\n",
    "For now, both networks will be similar in design and consist of linear layers coupled with auxiliary layers. This split-up will be relevant later, e.g., by using convolutional layers, which are introduced in the lecture. We are going to set up the `encoder` now. \n",
    "\n",
    "Think about a good network architecture. You have complete freedom in this regard and can devise any network structure you think might be fitting. (\\*)\n",
    "\n",
    "Have a look at the documentation of `torch.nn` at https://pytorch.org/docs/stable/nn.html to learn how to use this module in order to build your network!\n",
    "\n",
    "Then implement your architecture: initialize it in `__init__()` and assign it to `self.model`. This is particularly easy using `nn.Sequential()`, where you only have to pass the list of your layers. \n",
    "\n",
    "To make your model customizable and support parameter search, do not use hardcoded hyperparameters - instead, pass them as a simple dictionary `hparams` (here, `n_hidden` is the number of neurons in the hidden layer) when initializing `models`.\n",
    "\n",
    "Here is a simple example:\n",
    "\n",
    "```python\n",
    "        self.model = nn.Sequential(\n",
    "            nn.Linear(input_size, self.hparams[\"n_hidden\"]),\n",
    "            nn.ReLU(),            \n",
    "            nn.Linear(self.hparams[\"n_hidden\"], num_classes)\n",
    "        )\n",
    "```\n",
    "\n",
    "Have a look at the forward path in `forward(self, x)`, which is so easy that you don't need to implement it yourself.\n",
    "\n",
    "As PyTorch automatically computes the gradients, that's all you need to do! There is no need to manually calculate derivatives for the backward paths anymore! :)\n",
    "\n",
    "\n",
    "____\n",
    "\\* *The size of your final model must be less than 20 MB, which is approximately equivalent to 5 Mio. params. Note that this limit is quite lenient, you will probably need much fewer parameters!*\n",
    "\n",
    "*In order to keep things simple, you should only use fully connected layers for this task, as we need to revert the encoder architecture later on in the notebook.*\n",
    "\n",
    "<div class=\"alert alert-info\">\n",
    "    <h3>Task: Implement</h3>\n",
    "    <p>Implement the <code>Encoder</code> class initialization in <code>exercise_code/models.py</code>.\n",
    "    </p>\n",
    "</div>\n",
    "\n",
    "\n"
   ]
  },
  {
   "attachments": {},
   "cell_type": "markdown",
   "metadata": {
    "id": "jNf7FrvwMNki"
   },
   "source": [
    "## 2.2 The Classifier\n",
    "\n",
    "Now let's implement the classifier. The classifier will utilize the encoder that you have defined in the above cell. By looking at `Classifier.forward`, you can see that we are essentially concatenating the `classifier`and the `encoder` together. Therefore, it is crucial to ensure that the input shape of the classifier matches the output shape of the encoder you implemented above\n",
    "\n",
    "<div class=\"alert alert-info\">\n",
    "    <h3>Task: Implement</h3>\n",
    "    <p>1. Implement the <code>Classifier</code> class network initialization in <code>exercise_code/models.py</code>.\n",
    "    </p>\n",
    "    <p>2. Define in the next cell your hyperparameters in a dictionary called 'hparams'.\n",
    "    </p>\n",
    "</div>"
   ]
  },
  {
   "cell_type": "code",
   "execution_count": 148,
   "metadata": {
    "id": "AawbvD1rMNkj",
    "ExecuteTime": {
     "end_time": "2023-12-07T15:17:42.550427Z",
     "start_time": "2023-12-07T15:17:42.526499Z"
    }
   },
   "outputs": [],
   "source": [
    "hparams = {}\n",
    "########################################################################\n",
    "# TODO: Define your hyper parameters here!                             #\n",
    "########################################################################\n",
    "\n",
    "hparams = {\n",
    "    \"batch_size\": 1024,\n",
    "    \"classifier_learning_rate\": 0.001,\n",
    "    #\"autoencoder_learning_rate\": 0.001,\n",
    "    \"n_hidden\": 1000,\n",
    "    \"input_size\": 28 * 28,\n",
    "    \"num_classes\": 10,\n",
    "    \"num_workers\": 2,\n",
    "    \"device\": device,\n",
    "    \"epochs\": 50\n",
    "}\n",
    "\n",
    "########################################################################\n",
    "#                           END OF YOUR CODE                           #\n",
    "########################################################################"
   ]
  },
  {
   "attachments": {},
   "cell_type": "markdown",
   "metadata": {
    "id": "bOYbUg8lAmgU"
   },
   "source": [
    "\n",
    "## 2.3 Optimizer\n",
    "Lastly, implement the function `set_optimizer` to define your optimizer. Here the documentation of `torch.optim` at https://pytorch.org/docs/stable/optim.html might be helpful.\n",
    "\n",
    "<div class=\"alert alert-info\">\n",
    "    <h3>Task: Implement</h3>\n",
    "    <p>Implement the <code>set_optimizer</code> method of the <code>Classifier</code> in <code>exercise_code/models.py</code>.\n",
    "    </p>\n",
    "</div>\n"
   ]
  },
  {
   "attachments": {},
   "cell_type": "markdown",
   "metadata": {
    "id": "xrUfa-a7MNkk"
   },
   "source": [
    "## 2.4 Training & Validation Step\n",
    "\n",
    "<div class=\"alert alert-success\">\n",
    "    <h3>Task: Check Code</h3>\n",
    "    <p> Let's take a closer look at the training pipeline outlined below. It is explicitly written here in its entirety to provide you with a comprehensive understanding of its structure. Additionally, you can refer back to this pipeline whenever you encounter any uncertainties or need guidance.\n",
    " </p>\n",
    "</div>\n"
   ]
  },
  {
   "cell_type": "code",
   "execution_count": 149,
   "metadata": {
    "id": "NY_lLaNWMNkk",
    "ExecuteTime": {
     "end_time": "2023-12-07T15:17:45.375810Z",
     "start_time": "2023-12-07T15:17:45.341481Z"
    }
   },
   "outputs": [],
   "source": [
    " # One of the most crucial things in deep learning is to understand the training pipeline:\n",
    " # 1. Forward()          --> The forward pass of the network, to calculate the currnent loss.\n",
    " # 2. Backward()         --> The backward pass of the network, to calculate the gradients w.r.t the loss, calculated in the previous stage.\n",
    " # 3. Optimizer_step()   --> Update the weights w.r.t their corresponding gradients and the learnign rate.\n",
    "\n",
    "def create_tqdm_bar(iterable, desc):\n",
    "    return tqdm(enumerate(iterable),total=len(iterable), ncols=150, desc=desc)\n",
    "\n",
    "\n",
    "def train_classifier(classifier, train_loader, val_loader, loss_func, tb_logger, epochs=10, name=\"default\"):\n",
    "    \"\"\"\n",
    "    Train the classifier for a number of epochs.\n",
    "    \"\"\"\n",
    "    optimizer = classifier.optimizer\n",
    "    classifier = classifier.to(device)\n",
    "    validation_loss = 0\n",
    "    for epoch in range(epochs):\n",
    "        \n",
    "        training_loss = 0\n",
    "        \n",
    "        # Training stage, where we want to update the parameters.\n",
    "        classifier.train()  # Set the model to training mode\n",
    "        \n",
    "        # Create a progress bar for the training loop.\n",
    "        training_loop = create_tqdm_bar(train_loader, desc=f'Training Epoch [{epoch + 1}/{epochs}]')\n",
    "        for train_iteration, batch in training_loop:\n",
    "            optimizer.zero_grad() # Reset the gradients - VERY important! Otherwise they accumulate.\n",
    "            images, labels = batch # Get the images and labels from the batch, in the fashion we defined in the dataset and dataloader.\n",
    "            images, labels = images.to(device), labels.to(device) # Send the data to the device (GPU or CPU) - it has to be the same device as the model.\n",
    "\n",
    "            # Flatten the images to a vector. This is done because the classifier expects a vector as input.\n",
    "            # Could also be done by reshaping the images in the dataset.\n",
    "            images = images.view(images.shape[0], -1) \n",
    "\n",
    "            pred = classifier(images) # Stage 1: Forward().\n",
    "            loss = loss_func(pred, labels) # Compute the loss over the predictions and the ground truth.\n",
    "            loss.backward()  # Stage 2: Backward().\n",
    "            optimizer.step() # Stage 3: Update the parameters.\n",
    "\n",
    "            training_loss += loss.item()\n",
    "\n",
    "            # Update the progress bar.\n",
    "            training_loop.set_postfix(curr_train_loss = \"{:.8f}\".format(training_loss / (train_iteration + 1)), val_loss = \"{:.8f}\".format(validation_loss))\n",
    "\n",
    "            # Update the tensorboard logger.\n",
    "            tb_logger.add_scalar(f'classifier_{name}/train_loss', loss.item(), epoch * len(train_loader) + train_iteration)\n",
    "            sleep(0.1) # Remove this line if you want to see the progress bar faster.\n",
    "\n",
    "        # Validation stage, where we don't want to update the parameters. Pay attention to the classifier.eval() line\n",
    "        # and \"with torch.no_grad()\" wrapper.\n",
    "        classifier.eval()\n",
    "        val_loop = create_tqdm_bar(val_loader, desc=f'Validation Epoch [{epoch + 1}/{epochs}]')\n",
    "        validation_loss = 0\n",
    "        with torch.no_grad():\n",
    "            for val_iteration, batch in val_loop:\n",
    "                images, labels = batch\n",
    "                images, labels = images.to(device), labels.to(device)\n",
    "\n",
    "                images = images.view(images.shape[0], -1) \n",
    "                pred = classifier(images)\n",
    "                loss = loss_func(pred, labels)\n",
    "                validation_loss += loss.item()\n",
    "\n",
    "                # Update the progress bar.\n",
    "                val_loop.set_postfix(val_loss = \"{:.8f}\".format(validation_loss / (val_iteration + 1)))\n",
    "\n",
    "                # Update the tensorboard logger.\n",
    "                tb_logger.add_scalar(f'classifier_{name}/val_loss', loss.item(), epoch * len(val_loader) + val_iteration)\n",
    "                sleep(0.1) # Remove this line if you want to see the progress bar faster.\n",
    "        \n",
    "        # This value is used for the progress bar of the training loop.\n",
    "        validation_loss /= len(val_loader)\n",
    "            "
   ]
  },
  {
   "attachments": {},
   "cell_type": "markdown",
   "metadata": {
    "id": "KVKLlwlyMNkl"
   },
   "source": [
    "## 2.5 Fit Classification Model with Trainer\n",
    "Now it's finally time to train your model.\n",
    "Run the following cell to see the behold the magic of deep learning at play."
   ]
  },
  {
   "cell_type": "code",
   "execution_count": 150,
   "metadata": {
    "id": "uBGavq9cMNkl",
    "ExecuteTime": {
     "end_time": "2023-12-07T15:17:59.604774Z",
     "start_time": "2023-12-07T15:17:48.297283Z"
    }
   },
   "outputs": [
    {
     "name": "stderr",
     "output_type": "stream",
     "text": [
      "Training Epoch [1/50]: 100%|███████████████████████████████████████████| 1/1 [00:00<00:00,  8.85it/s, curr_train_loss=2.29658699, val_loss=0.00000000]\n",
      "Validation Epoch [1/50]: 100%|█████████████████████████████████████████████████████████████████████| 1/1 [00:00<00:00,  9.21it/s, val_loss=2.30999184]\n",
      "Training Epoch [2/50]: 100%|███████████████████████████████████████████| 1/1 [00:00<00:00,  8.88it/s, curr_train_loss=2.07373643, val_loss=2.30999184]\n",
      "Validation Epoch [2/50]: 100%|█████████████████████████████████████████████████████████████████████| 1/1 [00:00<00:00,  9.20it/s, val_loss=2.31136012]\n",
      "Training Epoch [3/50]: 100%|███████████████████████████████████████████| 1/1 [00:00<00:00,  8.89it/s, curr_train_loss=1.85428786, val_loss=2.31136012]\n",
      "Validation Epoch [3/50]: 100%|█████████████████████████████████████████████████████████████████████| 1/1 [00:00<00:00,  9.33it/s, val_loss=2.31214857]\n",
      "Training Epoch [4/50]: 100%|███████████████████████████████████████████| 1/1 [00:00<00:00,  9.21it/s, curr_train_loss=1.69020784, val_loss=2.31214857]\n",
      "Validation Epoch [4/50]: 100%|█████████████████████████████████████████████████████████████████████| 1/1 [00:00<00:00,  9.54it/s, val_loss=2.31221366]\n",
      "Training Epoch [5/50]: 100%|███████████████████████████████████████████| 1/1 [00:00<00:00,  8.91it/s, curr_train_loss=1.50785351, val_loss=2.31221366]\n",
      "Validation Epoch [5/50]: 100%|█████████████████████████████████████████████████████████████████████| 1/1 [00:00<00:00,  9.28it/s, val_loss=2.31159449]\n",
      "Training Epoch [6/50]: 100%|███████████████████████████████████████████| 1/1 [00:00<00:00,  9.21it/s, curr_train_loss=1.38919449, val_loss=2.31159449]\n",
      "Validation Epoch [6/50]: 100%|█████████████████████████████████████████████████████████████████████| 1/1 [00:00<00:00,  9.58it/s, val_loss=2.31016970]\n",
      "Training Epoch [7/50]: 100%|███████████████████████████████████████████| 1/1 [00:00<00:00,  9.06it/s, curr_train_loss=1.29320586, val_loss=2.31016970]\n",
      "Validation Epoch [7/50]: 100%|█████████████████████████████████████████████████████████████████████| 1/1 [00:00<00:00,  9.37it/s, val_loss=2.30847168]\n",
      "Training Epoch [8/50]: 100%|███████████████████████████████████████████| 1/1 [00:00<00:00,  8.80it/s, curr_train_loss=1.17221951, val_loss=2.30847168]\n",
      "Validation Epoch [8/50]: 100%|█████████████████████████████████████████████████████████████████████| 1/1 [00:00<00:00,  9.18it/s, val_loss=2.30656505]\n",
      "Training Epoch [9/50]: 100%|███████████████████████████████████████████| 1/1 [00:00<00:00,  8.80it/s, curr_train_loss=1.10804701, val_loss=2.30656505]\n",
      "Validation Epoch [9/50]: 100%|█████████████████████████████████████████████████████████████████████| 1/1 [00:00<00:00,  9.10it/s, val_loss=2.30421758]\n",
      "Training Epoch [10/50]: 100%|██████████████████████████████████████████| 1/1 [00:00<00:00,  8.68it/s, curr_train_loss=1.03275812, val_loss=2.30421758]\n",
      "Validation Epoch [10/50]: 100%|████████████████████████████████████████████████████████████████████| 1/1 [00:00<00:00,  9.20it/s, val_loss=2.30202508]\n",
      "Training Epoch [11/50]: 100%|██████████████████████████████████████████| 1/1 [00:00<00:00,  8.73it/s, curr_train_loss=0.96530831, val_loss=2.30202508]\n",
      "Validation Epoch [11/50]: 100%|████████████████████████████████████████████████████████████████████| 1/1 [00:00<00:00,  9.17it/s, val_loss=2.29971695]\n",
      "Training Epoch [12/50]: 100%|██████████████████████████████████████████| 1/1 [00:00<00:00,  8.77it/s, curr_train_loss=0.86500412, val_loss=2.29971695]\n",
      "Validation Epoch [12/50]: 100%|████████████████████████████████████████████████████████████████████| 1/1 [00:00<00:00,  9.14it/s, val_loss=2.29737997]\n",
      "Training Epoch [13/50]: 100%|██████████████████████████████████████████| 1/1 [00:00<00:00,  8.62it/s, curr_train_loss=0.82426667, val_loss=2.29737997]\n",
      "Validation Epoch [13/50]: 100%|████████████████████████████████████████████████████████████████████| 1/1 [00:00<00:00,  9.11it/s, val_loss=2.29495597]\n",
      "Training Epoch [14/50]: 100%|██████████████████████████████████████████| 1/1 [00:00<00:00,  8.89it/s, curr_train_loss=0.77487952, val_loss=2.29495597]\n",
      "Validation Epoch [14/50]: 100%|████████████████████████████████████████████████████████████████████| 1/1 [00:00<00:00,  9.14it/s, val_loss=2.29212523]\n",
      "Training Epoch [15/50]: 100%|██████████████████████████████████████████| 1/1 [00:00<00:00,  8.94it/s, curr_train_loss=0.72808874, val_loss=2.29212523]\n",
      "Validation Epoch [15/50]: 100%|████████████████████████████████████████████████████████████████████| 1/1 [00:00<00:00,  9.47it/s, val_loss=2.28846288]\n",
      "Training Epoch [16/50]: 100%|██████████████████████████████████████████| 1/1 [00:00<00:00,  9.04it/s, curr_train_loss=0.67763948, val_loss=2.28846288]\n",
      "Validation Epoch [16/50]: 100%|████████████████████████████████████████████████████████████████████| 1/1 [00:00<00:00,  9.15it/s, val_loss=2.28484702]\n",
      "Training Epoch [17/50]: 100%|██████████████████████████████████████████| 1/1 [00:00<00:00,  8.72it/s, curr_train_loss=0.66482514, val_loss=2.28484702]\n",
      "Validation Epoch [17/50]: 100%|████████████████████████████████████████████████████████████████████| 1/1 [00:00<00:00,  9.12it/s, val_loss=2.28096628]\n",
      "Training Epoch [18/50]: 100%|██████████████████████████████████████████| 1/1 [00:00<00:00,  8.68it/s, curr_train_loss=0.60232723, val_loss=2.28096628]\n",
      "Validation Epoch [18/50]: 100%|████████████████████████████████████████████████████████████████████| 1/1 [00:00<00:00,  9.15it/s, val_loss=2.27722883]\n",
      "Training Epoch [19/50]: 100%|██████████████████████████████████████████| 1/1 [00:00<00:00,  8.73it/s, curr_train_loss=0.54312170, val_loss=2.27722883]\n",
      "Validation Epoch [19/50]: 100%|████████████████████████████████████████████████████████████████████| 1/1 [00:00<00:00,  9.27it/s, val_loss=2.27402258]\n",
      "Training Epoch [20/50]: 100%|██████████████████████████████████████████| 1/1 [00:00<00:00,  8.73it/s, curr_train_loss=0.51120383, val_loss=2.27402258]\n",
      "Validation Epoch [20/50]: 100%|████████████████████████████████████████████████████████████████████| 1/1 [00:00<00:00,  9.16it/s, val_loss=2.27134514]\n",
      "Training Epoch [21/50]: 100%|██████████████████████████████████████████| 1/1 [00:00<00:00,  8.71it/s, curr_train_loss=0.48971111, val_loss=2.27134514]\n",
      "Validation Epoch [21/50]: 100%|████████████████████████████████████████████████████████████████████| 1/1 [00:00<00:00,  9.13it/s, val_loss=2.26880074]\n",
      "Training Epoch [22/50]: 100%|██████████████████████████████████████████| 1/1 [00:00<00:00,  8.81it/s, curr_train_loss=0.43272656, val_loss=2.26880074]\n",
      "Validation Epoch [22/50]: 100%|████████████████████████████████████████████████████████████████████| 1/1 [00:00<00:00,  9.11it/s, val_loss=2.26569390]\n",
      "Training Epoch [23/50]: 100%|██████████████████████████████████████████| 1/1 [00:00<00:00,  8.84it/s, curr_train_loss=0.43359825, val_loss=2.26569390]\n",
      "Validation Epoch [23/50]: 100%|████████████████████████████████████████████████████████████████████| 1/1 [00:00<00:00,  9.50it/s, val_loss=2.26207042]\n",
      "Training Epoch [24/50]: 100%|██████████████████████████████████████████| 1/1 [00:00<00:00,  8.83it/s, curr_train_loss=0.40141094, val_loss=2.26207042]\n",
      "Validation Epoch [24/50]: 100%|████████████████████████████████████████████████████████████████████| 1/1 [00:00<00:00,  9.53it/s, val_loss=2.25762320]\n",
      "Training Epoch [25/50]: 100%|██████████████████████████████████████████| 1/1 [00:00<00:00,  9.13it/s, curr_train_loss=0.35349646, val_loss=2.25762320]\n",
      "Validation Epoch [25/50]: 100%|████████████████████████████████████████████████████████████████████| 1/1 [00:00<00:00,  9.17it/s, val_loss=2.25237799]\n",
      "Training Epoch [26/50]: 100%|██████████████████████████████████████████| 1/1 [00:00<00:00,  8.90it/s, curr_train_loss=0.36364463, val_loss=2.25237799]\n",
      "Validation Epoch [26/50]: 100%|████████████████████████████████████████████████████████████████████| 1/1 [00:00<00:00,  9.28it/s, val_loss=2.24707103]\n",
      "Training Epoch [27/50]: 100%|██████████████████████████████████████████| 1/1 [00:00<00:00,  8.75it/s, curr_train_loss=0.30842489, val_loss=2.24707103]\n",
      "Validation Epoch [27/50]: 100%|████████████████████████████████████████████████████████████████████| 1/1 [00:00<00:00,  9.25it/s, val_loss=2.24146318]\n",
      "Training Epoch [28/50]: 100%|██████████████████████████████████████████| 1/1 [00:00<00:00,  8.80it/s, curr_train_loss=0.31567341, val_loss=2.24146318]\n",
      "Validation Epoch [28/50]: 100%|████████████████████████████████████████████████████████████████████| 1/1 [00:00<00:00,  9.12it/s, val_loss=2.23544717]\n",
      "Training Epoch [29/50]: 100%|██████████████████████████████████████████| 1/1 [00:00<00:00,  8.83it/s, curr_train_loss=0.24895321, val_loss=2.23544717]\n",
      "Validation Epoch [29/50]: 100%|████████████████████████████████████████████████████████████████████| 1/1 [00:00<00:00,  9.09it/s, val_loss=2.22924757]\n",
      "Training Epoch [30/50]: 100%|██████████████████████████████████████████| 1/1 [00:00<00:00,  8.96it/s, curr_train_loss=0.26364166, val_loss=2.22924757]\n",
      "Validation Epoch [30/50]: 100%|████████████████████████████████████████████████████████████████████| 1/1 [00:00<00:00,  9.10it/s, val_loss=2.22265887]\n",
      "Training Epoch [31/50]: 100%|██████████████████████████████████████████| 1/1 [00:00<00:00,  8.65it/s, curr_train_loss=0.22629938, val_loss=2.22265887]\n",
      "Validation Epoch [31/50]: 100%|████████████████████████████████████████████████████████████████████| 1/1 [00:00<00:00,  9.48it/s, val_loss=2.21551037]\n",
      "Training Epoch [32/50]: 100%|██████████████████████████████████████████| 1/1 [00:00<00:00,  8.79it/s, curr_train_loss=0.23502931, val_loss=2.21551037]\n",
      "Validation Epoch [32/50]: 100%|████████████████████████████████████████████████████████████████████| 1/1 [00:00<00:00,  9.36it/s, val_loss=2.20801020]\n",
      "Training Epoch [33/50]: 100%|██████████████████████████████████████████| 1/1 [00:00<00:00,  8.73it/s, curr_train_loss=0.21227893, val_loss=2.20801020]\n",
      "Validation Epoch [33/50]: 100%|████████████████████████████████████████████████████████████████████| 1/1 [00:00<00:00,  9.40it/s, val_loss=2.20026731]\n",
      "Training Epoch [34/50]: 100%|██████████████████████████████████████████| 1/1 [00:00<00:00,  8.99it/s, curr_train_loss=0.21025753, val_loss=2.20026731]\n",
      "Validation Epoch [34/50]: 100%|████████████████████████████████████████████████████████████████████| 1/1 [00:00<00:00,  9.15it/s, val_loss=2.19204545]\n",
      "Training Epoch [35/50]: 100%|██████████████████████████████████████████| 1/1 [00:00<00:00,  8.83it/s, curr_train_loss=0.20234710, val_loss=2.19204545]\n",
      "Validation Epoch [35/50]: 100%|████████████████████████████████████████████████████████████████████| 1/1 [00:00<00:00,  9.33it/s, val_loss=2.18372750]\n",
      "Training Epoch [36/50]: 100%|██████████████████████████████████████████| 1/1 [00:00<00:00,  8.84it/s, curr_train_loss=0.17178690, val_loss=2.18372750]\n",
      "Validation Epoch [36/50]: 100%|████████████████████████████████████████████████████████████████████| 1/1 [00:00<00:00,  9.13it/s, val_loss=2.17495537]\n",
      "Training Epoch [37/50]: 100%|██████████████████████████████████████████| 1/1 [00:00<00:00,  8.72it/s, curr_train_loss=0.15622796, val_loss=2.17495537]\n",
      "Validation Epoch [37/50]: 100%|████████████████████████████████████████████████████████████████████| 1/1 [00:00<00:00,  9.33it/s, val_loss=2.16668987]\n",
      "Training Epoch [38/50]: 100%|██████████████████████████████████████████| 1/1 [00:00<00:00,  8.98it/s, curr_train_loss=0.13598463, val_loss=2.16668987]\n",
      "Validation Epoch [38/50]: 100%|████████████████████████████████████████████████████████████████████| 1/1 [00:00<00:00,  9.17it/s, val_loss=2.15797353]\n",
      "Training Epoch [39/50]: 100%|██████████████████████████████████████████| 1/1 [00:00<00:00,  8.87it/s, curr_train_loss=0.14699185, val_loss=2.15797353]\n",
      "Validation Epoch [39/50]: 100%|████████████████████████████████████████████████████████████████████| 1/1 [00:00<00:00,  9.17it/s, val_loss=2.14932871]\n",
      "Training Epoch [40/50]: 100%|██████████████████████████████████████████| 1/1 [00:00<00:00,  8.69it/s, curr_train_loss=0.13497348, val_loss=2.14932871]\n",
      "Validation Epoch [40/50]: 100%|████████████████████████████████████████████████████████████████████| 1/1 [00:00<00:00,  9.16it/s, val_loss=2.14014339]\n",
      "Training Epoch [41/50]: 100%|██████████████████████████████████████████| 1/1 [00:00<00:00,  8.74it/s, curr_train_loss=0.11149874, val_loss=2.14014339]\n",
      "Validation Epoch [41/50]: 100%|████████████████████████████████████████████████████████████████████| 1/1 [00:00<00:00,  9.44it/s, val_loss=2.13036537]\n",
      "Training Epoch [42/50]: 100%|██████████████████████████████████████████| 1/1 [00:00<00:00,  8.97it/s, curr_train_loss=0.10405193, val_loss=2.13036537]\n",
      "Validation Epoch [42/50]: 100%|████████████████████████████████████████████████████████████████████| 1/1 [00:00<00:00,  9.15it/s, val_loss=2.12034178]\n",
      "Training Epoch [43/50]: 100%|██████████████████████████████████████████| 1/1 [00:00<00:00,  8.83it/s, curr_train_loss=0.11071327, val_loss=2.12034178]\n",
      "Validation Epoch [43/50]: 100%|████████████████████████████████████████████████████████████████████| 1/1 [00:00<00:00,  9.20it/s, val_loss=2.11011600]\n",
      "Training Epoch [44/50]: 100%|██████████████████████████████████████████| 1/1 [00:00<00:00,  8.98it/s, curr_train_loss=0.09659448, val_loss=2.11011600]\n",
      "Validation Epoch [44/50]: 100%|████████████████████████████████████████████████████████████████████| 1/1 [00:00<00:00,  9.11it/s, val_loss=2.10025477]\n",
      "Training Epoch [45/50]: 100%|██████████████████████████████████████████| 1/1 [00:00<00:00,  9.02it/s, curr_train_loss=0.07449652, val_loss=2.10025477]\n",
      "Validation Epoch [45/50]: 100%|████████████████████████████████████████████████████████████████████| 1/1 [00:00<00:00,  9.18it/s, val_loss=2.09001398]\n",
      "Training Epoch [46/50]: 100%|██████████████████████████████████████████| 1/1 [00:00<00:00,  8.71it/s, curr_train_loss=0.09089018, val_loss=2.09001398]\n",
      "Validation Epoch [46/50]: 100%|████████████████████████████████████████████████████████████████████| 1/1 [00:00<00:00,  9.55it/s, val_loss=2.07927227]\n",
      "Training Epoch [47/50]: 100%|██████████████████████████████████████████| 1/1 [00:00<00:00,  8.76it/s, curr_train_loss=0.10245875, val_loss=2.07927227]\n",
      "Validation Epoch [47/50]: 100%|████████████████████████████████████████████████████████████████████| 1/1 [00:00<00:00,  9.14it/s, val_loss=2.06765842]\n",
      "Training Epoch [48/50]: 100%|██████████████████████████████████████████| 1/1 [00:00<00:00,  8.73it/s, curr_train_loss=0.08008160, val_loss=2.06765842]\n",
      "Validation Epoch [48/50]: 100%|████████████████████████████████████████████████████████████████████| 1/1 [00:00<00:00,  9.16it/s, val_loss=2.05697203]\n",
      "Training Epoch [49/50]: 100%|██████████████████████████████████████████| 1/1 [00:00<00:00,  8.71it/s, curr_train_loss=0.07169949, val_loss=2.05697203]\n",
      "Validation Epoch [49/50]: 100%|████████████████████████████████████████████████████████████████████| 1/1 [00:00<00:00,  9.09it/s, val_loss=2.04660058]\n",
      "Training Epoch [50/50]: 100%|██████████████████████████████████████████| 1/1 [00:00<00:00,  8.76it/s, curr_train_loss=0.07396674, val_loss=2.04660058]\n",
      "Validation Epoch [50/50]: 100%|████████████████████████████████████████████████████████████████████| 1/1 [00:00<00:00,  9.13it/s, val_loss=2.03595185]"
     ]
    },
    {
     "name": "stdout",
     "output_type": "stream",
     "text": [
      "Finished training!\n",
      "How did we do? Let's check the accuracy of the defaut classifier on the training and validation sets:\n",
      "Training Acc: 84.0%\n",
      "Validation Acc: 33.0%\n"
     ]
    },
    {
     "name": "stderr",
     "output_type": "stream",
     "text": [
      "\n"
     ]
    }
   ],
   "source": [
    "from exercise_code.models import Classifier\n",
    "from exercise_code.models import Encoder\n",
    "\n",
    "# Create the encoder and the classifier.\n",
    "encoder = Encoder(hparams).to(device)\n",
    "classifier = Classifier(hparams, encoder).to(device)\n",
    "\n",
    "# Create a tensorboard logger.\n",
    "# NOTE: In order to see the logs, run the following command in the terminal: tensorboard --logdir=./\n",
    "# Also, in order to reset the logs, delete the logs folder MANUALLY.\n",
    "\n",
    "path = os.path.join('logs', 'cls_logs')\n",
    "num_of_runs = len(os.listdir(path)) if os.path.exists(path) else 0\n",
    "path = os.path.join(path, f'run_{num_of_runs + 1}')\n",
    "\n",
    "tb_logger = SummaryWriter(path)\n",
    "\n",
    "# Train the classifier.\n",
    "labled_train_loader = torch.utils.data.DataLoader(train_100_dataset, batch_size=hparams['batch_size'], shuffle=True)\n",
    "labled_val_loader = torch.utils.data.DataLoader(val_100_dataset, batch_size=hparams['batch_size'], shuffle=False)\n",
    "\n",
    "epochs = hparams.get('epochs', 10)\n",
    "loss_func = nn.CrossEntropyLoss() # The loss function we use for classification.\n",
    "train_classifier(classifier, labled_train_loader, labled_val_loader, loss_func, tb_logger, epochs=epochs, name=\"Default\")\n",
    "\n",
    "print(\"Finished training!\")\n",
    "print(\"How did we do? Let's check the accuracy of the defaut classifier on the training and validation sets:\")\n",
    "print(f\"Training Acc: {classifier.getAcc(labled_train_loader)[1] * 100}%\")\n",
    "print(f\"Validation Acc: {classifier.getAcc(labled_val_loader)[1] * 100}%\")"
   ]
  },
  {
   "attachments": {},
   "cell_type": "markdown",
   "metadata": {
    "id": "i16vmHZXMNkm",
    "pycharm": {
     "name": "#%% md\n"
    }
   },
   "source": [
    "# 3. Autoencoder\n",
    "\n",
    "With only a limited number of labeled images, it's challenging to achieve high performance. We have no money left to pay the student to create more labels, and labeling the data ourselves is out of question. A commonly used approach would be to apply data augmentation to maximize the potential of our limited labeled data, but here we provide another way to solve this problem: **transfer learning**.\n",
    "\n",
    "For each input, the autoencoder tries to reproduce the same image as an output. The difficulty behind this task is that the autoencoder has to go through a low dimensional bottleneck, which is called the **latent space**.\n",
    "In other words, the autoencoder learns to represent all the input information in a low dimensional latent space - it learns to compress the input distribution. To train the autoencoder, we use the mean squared error loss, which calculates the discrepancy between the input pixels and the output pixels. The best part is that this loss function doesn't require any labels!\n",
    "\n",
    "By pretraining the autoencoder in this way on a large amount of unlabeled data, we can capture valuable latent representations of the input images. Then, we transfer the weights of the encoder to our classifier, enabling it to benefit from the knowledge learned during the unsupervised pretraining phase. \n",
    "\n",
    "<!-- In case the image does not show, uncomment the following:\n",
    "![autoencoder](img/autoencoder.png) \n",
    "-->\n",
    "<img name=\"autoencoder\" src=\"https://drive.google.com/uc?id=17nHpWR_L-mSyiNah9rV0dHuXW9yWPbLt\">\n",
    "\n",
    "After this, our encoder has learned to extract meaningful information from the inputs. We can then transfer its weights\n",
    "to a classifier architecture and finetune it with our labeled data, i.e., instead of initializing our encoder randomly, we are re-using the weights of our trained encoder from our autoencoder network. \n",
    "\n",
    "<!-- In case the image does not show, uncomment the following:\n",
    "![autoencoder_pretrained](img/pretrained.png) \n",
    "-->\n",
    "<img name=\"autoencoder_pretrained\" src=\"https://drive.google.com/uc?id=1ttndkRDJF_EMfjyMxtbu_BjQ796fL1Km\">\n",
    "\n",
    "\n",
    "Before we can train our autoencoder, you have to initialize your `decoder` architecture. The simplest way is to mirror your encoder architecture, which ensures that the `latent space` output of our `encoder` is correctly transformed to our input shape.\n",
    "\n",
    "<div class=\"alert alert-info\">\n",
    "    <h3>Task: Implement</h3>\n",
    "    <p>Implement the <code>Decoder</code> class initialization in <code>exercise_code/models.py</code>.</p>\n",
    "    <p>Implement <code>forward</code>, <code>set_optimizer</code>, <code>training_step</code> and <code>validation_step</code> of the <code>Autoencoder</code> in  <code>exercise_code/models.py</code>, following the pipeline we've shown you in train_classifier().</p>\n",
    "    <p>Note the differences between the classification task and now the regression task!</p>\n",
    "\n",
    "\n",
    "</div>\n",
    "\n",
    "## 3.2 Autoencoder Training\n",
    "\n",
    "Now, we can train the full autoencoder consisting of both en- and decoder.\n",
    "\n",
    "\n"
   ]
  },
  {
   "cell_type": "code",
   "execution_count": 160,
   "metadata": {
    "id": "xqqdoLDgMNkm",
    "ExecuteTime": {
     "end_time": "2023-12-07T15:21:00.112991Z",
     "start_time": "2023-12-07T15:21:00.074970Z"
    }
   },
   "outputs": [],
   "source": [
    "from exercise_code.models import Autoencoder, Encoder, Decoder\n",
    "\n",
    "########################################################################\n",
    "# TODO: Define your hyperparameters here!                              #\n",
    "# Hint: use a large batch_size                                         #\n",
    "########################################################################\n",
    "\n",
    "hparams = {\n",
    "    \"batch_size\": 23768,\n",
    "    \"classifier_learning_rate\": 0.005,\n",
    "    \"autoencoder_learning_rate\": 0.02,\n",
    "    \"input_size\": 28 * 28,\n",
    "    \"num_classes\": 10,\n",
    "    \"num_workers\": 2,\n",
    "    \"device\": device,\n",
    "    \"epochs\": 100\n",
    "}\n",
    "\n",
    "########################################################################\n",
    "#                           END OF YOUR CODE                           #\n",
    "########################################################################\n",
    "encoder_pretrained = Encoder(hparams).to(device)\n",
    "decoder = Decoder(hparams).to(device)\n",
    "autoencoder = Autoencoder(hparams, encoder_pretrained, decoder).to(device)"
   ]
  },
  {
   "attachments": {},
   "cell_type": "markdown",
   "metadata": {
    "id": "uRuIIm8YMNkn"
   },
   "source": [
    "Some tests to check whether we'll accept your model."
   ]
  },
  {
   "cell_type": "code",
   "execution_count": 161,
   "metadata": {
    "id": "SoAaC-NqMNkn",
    "ExecuteTime": {
     "end_time": "2023-12-07T15:21:01.080993Z",
     "start_time": "2023-12-07T15:21:01.065412Z"
    }
   },
   "outputs": [
    {
     "name": "stdout",
     "output_type": "stream",
     "text": [
      "# Paramters: Your model has \u001B[92m0.225\u001B[0m mio. params.\n",
      "Model accepted!\n"
     ]
    }
   ],
   "source": [
    "from exercise_code.Util import printModelInfo, load_model\n",
    "_ = printModelInfo(autoencoder)"
   ]
  },
  {
   "attachments": {},
   "cell_type": "markdown",
   "metadata": {
    "id": "plQwnphtqggl"
   },
   "source": [
    "After implementing the relevant functions - read the following code, and then run it.\n",
    "Keep in mind that an epoch here will take much longer since\n",
    "we are iterating through 5,8600 images instead of just 100.\n",
    "\n",
    "For speed, colab is indeed recommended. "
   ]
  },
  {
   "cell_type": "code",
   "execution_count": 162,
   "metadata": {
    "id": "_uuzXMq6zjbb",
    "tags": [],
    "ExecuteTime": {
     "end_time": "2023-12-07T15:21:43.039968Z",
     "start_time": "2023-12-07T15:21:02.386431Z"
    }
   },
   "outputs": [
    {
     "name": "stderr",
     "output_type": "stream",
     "text": [
      "Training Epoch [0/100]: 100%|███████████████████████████████████████████████| 3/3 [00:00<00:00,  7.97it/s, train_loss=0.17549094, val_loss=0.00000000]\n",
      "Validation Epoch [0/100]: 100%|███████████████████████████████████████████████████████████████████| 1/1 [00:00<00:00, 188.75it/s, val_loss=0.09241737]\n",
      "Training Epoch [1/100]: 100%|███████████████████████████████████████████████| 3/3 [00:00<00:00,  7.12it/s, train_loss=0.08336752, val_loss=0.09241737]\n",
      "Validation Epoch [1/100]: 100%|███████████████████████████████████████████████████████████████████| 1/1 [00:00<00:00, 176.42it/s, val_loss=0.07485785]\n",
      "Training Epoch [2/100]: 100%|███████████████████████████████████████████████| 3/3 [00:00<00:00,  8.11it/s, train_loss=0.07288866, val_loss=0.07485785]\n",
      "Validation Epoch [2/100]: 100%|███████████████████████████████████████████████████████████████████| 1/1 [00:00<00:00, 208.99it/s, val_loss=0.06831363]\n",
      "Training Epoch [3/100]: 100%|███████████████████████████████████████████████| 3/3 [00:00<00:00,  7.14it/s, train_loss=0.06837524, val_loss=0.06831363]\n",
      "Validation Epoch [3/100]: 100%|███████████████████████████████████████████████████████████████████| 1/1 [00:00<00:00, 174.46it/s, val_loss=0.06807128]\n",
      "Training Epoch [4/100]: 100%|███████████████████████████████████████████████| 3/3 [00:00<00:00,  7.19it/s, train_loss=0.06808244, val_loss=0.06807128]\n",
      "Validation Epoch [4/100]: 100%|███████████████████████████████████████████████████████████████████| 1/1 [00:00<00:00, 163.19it/s, val_loss=0.06692796]\n",
      "Training Epoch [5/100]: 100%|███████████████████████████████████████████████| 3/3 [00:00<00:00,  7.15it/s, train_loss=0.06659675, val_loss=0.06692796]\n",
      "Validation Epoch [5/100]: 100%|███████████████████████████████████████████████████████████████████| 1/1 [00:00<00:00, 183.72it/s, val_loss=0.06546178]\n",
      "Training Epoch [6/100]: 100%|███████████████████████████████████████████████| 3/3 [00:00<00:00,  8.11it/s, train_loss=0.06530860, val_loss=0.06546178]\n",
      "Validation Epoch [6/100]: 100%|███████████████████████████████████████████████████████████████████| 1/1 [00:00<00:00, 200.89it/s, val_loss=0.06446303]\n",
      "Training Epoch [7/100]: 100%|███████████████████████████████████████████████| 3/3 [00:00<00:00,  8.07it/s, train_loss=0.06407870, val_loss=0.06446303]\n",
      "Validation Epoch [7/100]: 100%|███████████████████████████████████████████████████████████████████| 1/1 [00:00<00:00, 188.22it/s, val_loss=0.06285042]\n",
      "Training Epoch [8/100]: 100%|███████████████████████████████████████████████| 3/3 [00:00<00:00,  7.19it/s, train_loss=0.06260212, val_loss=0.06285042]\n",
      "Validation Epoch [8/100]: 100%|███████████████████████████████████████████████████████████████████| 1/1 [00:00<00:00, 178.22it/s, val_loss=0.06199118]\n",
      "Training Epoch [9/100]: 100%|███████████████████████████████████████████████| 3/3 [00:00<00:00,  8.11it/s, train_loss=0.06140978, val_loss=0.06199118]\n",
      "Validation Epoch [9/100]: 100%|███████████████████████████████████████████████████████████████████| 1/1 [00:00<00:00, 212.00it/s, val_loss=0.06093957]\n",
      "Training Epoch [10/100]: 100%|██████████████████████████████████████████████| 3/3 [00:00<00:00,  7.09it/s, train_loss=0.06077055, val_loss=0.06093957]\n",
      "Validation Epoch [10/100]: 100%|██████████████████████████████████████████████████████████████████| 1/1 [00:00<00:00, 169.90it/s, val_loss=0.06022300]\n",
      "Training Epoch [11/100]: 100%|██████████████████████████████████████████████| 3/3 [00:00<00:00,  8.08it/s, train_loss=0.05993174, val_loss=0.06022300]\n",
      "Validation Epoch [11/100]: 100%|██████████████████████████████████████████████████████████████████| 1/1 [00:00<00:00, 187.44it/s, val_loss=0.05936114]\n",
      "Training Epoch [12/100]: 100%|██████████████████████████████████████████████| 3/3 [00:00<00:00,  7.15it/s, train_loss=0.05928729, val_loss=0.05936114]\n",
      "Validation Epoch [12/100]: 100%|██████████████████████████████████████████████████████████████████| 1/1 [00:00<00:00, 184.46it/s, val_loss=0.05898232]\n",
      "Training Epoch [13/100]: 100%|██████████████████████████████████████████████| 3/3 [00:00<00:00,  8.12it/s, train_loss=0.05899667, val_loss=0.05898232]\n",
      "Validation Epoch [13/100]: 100%|██████████████████████████████████████████████████████████████████| 1/1 [00:00<00:00, 184.29it/s, val_loss=0.05858420]\n",
      "Training Epoch [14/100]: 100%|██████████████████████████████████████████████| 3/3 [00:00<00:00,  7.09it/s, train_loss=0.05864828, val_loss=0.05858420]\n",
      "Validation Epoch [14/100]: 100%|██████████████████████████████████████████████████████████████████| 1/1 [00:00<00:00, 207.69it/s, val_loss=0.05829013]\n",
      "Training Epoch [15/100]: 100%|██████████████████████████████████████████████| 3/3 [00:00<00:00,  8.14it/s, train_loss=0.05839443, val_loss=0.05829013]\n",
      "Validation Epoch [15/100]: 100%|██████████████████████████████████████████████████████████████████| 1/1 [00:00<00:00, 188.90it/s, val_loss=0.05798189]\n",
      "Training Epoch [16/100]: 100%|██████████████████████████████████████████████| 3/3 [00:00<00:00,  6.58it/s, train_loss=0.05806900, val_loss=0.05798189]\n",
      "Validation Epoch [16/100]: 100%|██████████████████████████████████████████████████████████████████| 1/1 [00:00<00:00, 192.26it/s, val_loss=0.05761720]\n",
      "Training Epoch [17/100]: 100%|██████████████████████████████████████████████| 3/3 [00:00<00:00,  7.14it/s, train_loss=0.05763997, val_loss=0.05761720]\n",
      "Validation Epoch [17/100]: 100%|██████████████████████████████████████████████████████████████████| 1/1 [00:00<00:00, 196.34it/s, val_loss=0.05717786]\n",
      "Training Epoch [18/100]: 100%|██████████████████████████████████████████████| 3/3 [00:00<00:00,  8.14it/s, train_loss=0.05705343, val_loss=0.05717786]\n",
      "Validation Epoch [18/100]: 100%|██████████████████████████████████████████████████████████████████| 1/1 [00:00<00:00, 176.30it/s, val_loss=0.05644407]\n",
      "Training Epoch [19/100]: 100%|██████████████████████████████████████████████| 3/3 [00:00<00:00,  7.14it/s, train_loss=0.05650042, val_loss=0.05644407]\n",
      "Validation Epoch [19/100]: 100%|██████████████████████████████████████████████████████████████████| 1/1 [00:00<00:00, 204.16it/s, val_loss=0.05885132]\n",
      "Training Epoch [20/100]: 100%|██████████████████████████████████████████████| 3/3 [00:00<00:00,  8.12it/s, train_loss=0.05746844, val_loss=0.05885132]\n",
      "Validation Epoch [20/100]: 100%|██████████████████████████████████████████████████████████████████| 1/1 [00:00<00:00, 171.88it/s, val_loss=0.05694171]\n",
      "Training Epoch [21/100]: 100%|██████████████████████████████████████████████| 3/3 [00:00<00:00,  7.08it/s, train_loss=0.05625599, val_loss=0.05694171]\n",
      "Validation Epoch [21/100]: 100%|██████████████████████████████████████████████████████████████████| 1/1 [00:00<00:00, 203.33it/s, val_loss=0.05579615]\n",
      "Training Epoch [22/100]: 100%|██████████████████████████████████████████████| 3/3 [00:00<00:00,  8.09it/s, train_loss=0.05554804, val_loss=0.05579615]\n",
      "Validation Epoch [22/100]: 100%|██████████████████████████████████████████████████████████████████| 1/1 [00:00<00:00, 179.75it/s, val_loss=0.05504916]\n",
      "Training Epoch [23/100]: 100%|██████████████████████████████████████████████| 3/3 [00:00<00:00,  7.16it/s, train_loss=0.05484719, val_loss=0.05504916]\n",
      "Validation Epoch [23/100]: 100%|██████████████████████████████████████████████████████████████████| 1/1 [00:00<00:00, 178.35it/s, val_loss=0.05447397]\n",
      "Training Epoch [24/100]: 100%|██████████████████████████████████████████████| 3/3 [00:00<00:00,  8.06it/s, train_loss=0.05428545, val_loss=0.05447397]\n",
      "Validation Epoch [24/100]: 100%|██████████████████████████████████████████████████████████████████| 1/1 [00:00<00:00, 206.78it/s, val_loss=0.05388302]\n",
      "Training Epoch [25/100]: 100%|██████████████████████████████████████████████| 3/3 [00:00<00:00,  7.09it/s, train_loss=0.05382814, val_loss=0.05388302]\n",
      "Validation Epoch [25/100]: 100%|██████████████████████████████████████████████████████████████████| 1/1 [00:00<00:00, 185.77it/s, val_loss=0.05342521]\n",
      "Training Epoch [26/100]: 100%|██████████████████████████████████████████████| 3/3 [00:00<00:00,  8.09it/s, train_loss=0.05338877, val_loss=0.05342521]\n",
      "Validation Epoch [26/100]: 100%|██████████████████████████████████████████████████████████████████| 1/1 [00:00<00:00, 209.39it/s, val_loss=0.05307937]\n",
      "Training Epoch [27/100]: 100%|██████████████████████████████████████████████| 3/3 [00:00<00:00,  8.03it/s, train_loss=0.05299299, val_loss=0.05307937]\n",
      "Validation Epoch [27/100]: 100%|██████████████████████████████████████████████████████████████████| 1/1 [00:00<00:00, 204.59it/s, val_loss=0.05268623]\n",
      "Training Epoch [28/100]: 100%|██████████████████████████████████████████████| 3/3 [00:00<00:00,  7.15it/s, train_loss=0.05271600, val_loss=0.05268623]\n",
      "Validation Epoch [28/100]: 100%|██████████████████████████████████████████████████████████████████| 1/1 [00:00<00:00, 203.75it/s, val_loss=0.05244447]\n",
      "Training Epoch [29/100]: 100%|██████████████████████████████████████████████| 3/3 [00:00<00:00,  8.07it/s, train_loss=0.05228308, val_loss=0.05244447]\n",
      "Validation Epoch [29/100]: 100%|██████████████████████████████████████████████████████████████████| 1/1 [00:00<00:00, 192.35it/s, val_loss=0.05217094]\n",
      "Training Epoch [30/100]: 100%|██████████████████████████████████████████████| 3/3 [00:00<00:00,  7.07it/s, train_loss=0.05199360, val_loss=0.05217094]\n",
      "Validation Epoch [30/100]: 100%|██████████████████████████████████████████████████████████████████| 1/1 [00:00<00:00, 202.17it/s, val_loss=0.05181888]\n",
      "Training Epoch [31/100]: 100%|██████████████████████████████████████████████| 3/3 [00:00<00:00,  8.05it/s, train_loss=0.05165430, val_loss=0.05181888]\n",
      "Validation Epoch [31/100]: 100%|██████████████████████████████████████████████████████████████████| 1/1 [00:00<00:00, 203.21it/s, val_loss=0.05139544]\n",
      "Training Epoch [32/100]: 100%|██████████████████████████████████████████████| 3/3 [00:00<00:00,  8.09it/s, train_loss=0.05137728, val_loss=0.05139544]\n",
      "Validation Epoch [32/100]: 100%|██████████████████████████████████████████████████████████████████| 1/1 [00:00<00:00, 189.15it/s, val_loss=0.05102569]\n",
      "Training Epoch [33/100]: 100%|██████████████████████████████████████████████| 3/3 [00:00<00:00,  7.12it/s, train_loss=0.05097468, val_loss=0.05102569]\n",
      "Validation Epoch [33/100]: 100%|██████████████████████████████████████████████████████████████████| 1/1 [00:00<00:00, 203.50it/s, val_loss=0.05064368]\n",
      "Training Epoch [34/100]: 100%|██████████████████████████████████████████████| 3/3 [00:00<00:00,  8.04it/s, train_loss=0.05056371, val_loss=0.05064368]\n",
      "Validation Epoch [34/100]: 100%|██████████████████████████████████████████████████████████████████| 1/1 [00:00<00:00, 184.94it/s, val_loss=0.05039044]\n",
      "Training Epoch [35/100]: 100%|██████████████████████████████████████████████| 3/3 [00:00<00:00,  7.12it/s, train_loss=0.05023140, val_loss=0.05039044]\n",
      "Validation Epoch [35/100]: 100%|██████████████████████████████████████████████████████████████████| 1/1 [00:00<00:00, 184.54it/s, val_loss=0.04979397]\n",
      "Training Epoch [36/100]: 100%|██████████████████████████████████████████████| 3/3 [00:00<00:00,  8.02it/s, train_loss=0.04952414, val_loss=0.04979397]\n",
      "Validation Epoch [36/100]: 100%|██████████████████████████████████████████████████████████████████| 1/1 [00:00<00:00, 161.97it/s, val_loss=0.04923227]\n",
      "Training Epoch [37/100]: 100%|██████████████████████████████████████████████| 3/3 [00:00<00:00,  7.09it/s, train_loss=0.04902043, val_loss=0.04923227]\n",
      "Validation Epoch [37/100]: 100%|██████████████████████████████████████████████████████████████████| 1/1 [00:00<00:00, 195.24it/s, val_loss=0.04899921]\n",
      "Training Epoch [38/100]: 100%|██████████████████████████████████████████████| 3/3 [00:00<00:00,  8.10it/s, train_loss=0.04881533, val_loss=0.04899921]\n",
      "Validation Epoch [38/100]: 100%|██████████████████████████████████████████████████████████████████| 1/1 [00:00<00:00, 205.80it/s, val_loss=0.04813163]\n",
      "Training Epoch [39/100]: 100%|██████████████████████████████████████████████| 3/3 [00:00<00:00,  7.11it/s, train_loss=0.04810378, val_loss=0.04813163]\n",
      "Validation Epoch [39/100]: 100%|██████████████████████████████████████████████████████████████████| 1/1 [00:00<00:00, 182.41it/s, val_loss=0.04782433]\n",
      "Training Epoch [40/100]: 100%|██████████████████████████████████████████████| 3/3 [00:00<00:00,  8.00it/s, train_loss=0.04753634, val_loss=0.04782433]\n",
      "Validation Epoch [40/100]: 100%|██████████████████████████████████████████████████████████████████| 1/1 [00:00<00:00, 183.45it/s, val_loss=0.04734543]\n",
      "Training Epoch [41/100]: 100%|██████████████████████████████████████████████| 3/3 [00:00<00:00,  7.10it/s, train_loss=0.04701893, val_loss=0.04734543]\n",
      "Validation Epoch [41/100]: 100%|██████████████████████████████████████████████████████████████████| 1/1 [00:00<00:00, 206.75it/s, val_loss=0.04692426]\n",
      "Training Epoch [42/100]: 100%|██████████████████████████████████████████████| 3/3 [00:00<00:00,  7.11it/s, train_loss=0.04659090, val_loss=0.04692426]\n",
      "Validation Epoch [42/100]: 100%|██████████████████████████████████████████████████████████████████| 1/1 [00:00<00:00, 190.77it/s, val_loss=0.04634232]\n",
      "Training Epoch [43/100]: 100%|██████████████████████████████████████████████| 3/3 [00:00<00:00,  8.06it/s, train_loss=0.04611810, val_loss=0.04634232]\n",
      "Validation Epoch [43/100]: 100%|██████████████████████████████████████████████████████████████████| 1/1 [00:00<00:00, 202.22it/s, val_loss=0.04579364]\n",
      "Training Epoch [44/100]: 100%|██████████████████████████████████████████████| 3/3 [00:00<00:00,  7.07it/s, train_loss=0.04568454, val_loss=0.04579364]\n",
      "Validation Epoch [44/100]: 100%|██████████████████████████████████████████████████████████████████| 1/1 [00:00<00:00, 196.74it/s, val_loss=0.04533570]\n",
      "Training Epoch [45/100]: 100%|██████████████████████████████████████████████| 3/3 [00:00<00:00,  8.02it/s, train_loss=0.04527578, val_loss=0.04533570]\n",
      "Validation Epoch [45/100]: 100%|██████████████████████████████████████████████████████████████████| 1/1 [00:00<00:00, 171.32it/s, val_loss=0.04547732]\n",
      "Training Epoch [46/100]: 100%|██████████████████████████████████████████████| 3/3 [00:00<00:00,  7.05it/s, train_loss=0.04546695, val_loss=0.04547732]\n",
      "Validation Epoch [46/100]: 100%|██████████████████████████████████████████████████████████████████| 1/1 [00:00<00:00, 167.73it/s, val_loss=0.04498936]\n",
      "Training Epoch [47/100]: 100%|██████████████████████████████████████████████| 3/3 [00:00<00:00,  8.02it/s, train_loss=0.04491274, val_loss=0.04498936]\n",
      "Validation Epoch [47/100]: 100%|██████████████████████████████████████████████████████████████████| 1/1 [00:00<00:00, 197.43it/s, val_loss=0.04480414]\n",
      "Training Epoch [48/100]: 100%|██████████████████████████████████████████████| 3/3 [00:00<00:00,  7.02it/s, train_loss=0.04445573, val_loss=0.04480414]\n",
      "Validation Epoch [48/100]: 100%|██████████████████████████████████████████████████████████████████| 1/1 [00:00<00:00, 191.49it/s, val_loss=0.04413852]\n",
      "Training Epoch [49/100]: 100%|██████████████████████████████████████████████| 3/3 [00:00<00:00,  7.97it/s, train_loss=0.04394425, val_loss=0.04413852]\n",
      "Validation Epoch [49/100]: 100%|██████████████████████████████████████████████████████████████████| 1/1 [00:00<00:00, 191.83it/s, val_loss=0.04353705]\n",
      "Training Epoch [50/100]: 100%|██████████████████████████████████████████████| 3/3 [00:00<00:00,  7.06it/s, train_loss=0.04350744, val_loss=0.04353705]\n",
      "Validation Epoch [50/100]: 100%|██████████████████████████████████████████████████████████████████| 1/1 [00:00<00:00, 196.08it/s, val_loss=0.04312120]\n",
      "Training Epoch [51/100]: 100%|██████████████████████████████████████████████| 3/3 [00:00<00:00,  8.06it/s, train_loss=0.04292592, val_loss=0.04312120]\n",
      "Validation Epoch [51/100]: 100%|██████████████████████████████████████████████████████████████████| 1/1 [00:00<00:00, 180.77it/s, val_loss=0.04280739]\n",
      "Training Epoch [52/100]: 100%|██████████████████████████████████████████████| 3/3 [00:00<00:00,  8.06it/s, train_loss=0.04262079, val_loss=0.04280739]\n",
      "Validation Epoch [52/100]: 100%|██████████████████████████████████████████████████████████████████| 1/1 [00:00<00:00, 196.46it/s, val_loss=0.04233326]\n",
      "Training Epoch [53/100]: 100%|██████████████████████████████████████████████| 3/3 [00:00<00:00,  7.12it/s, train_loss=0.04219655, val_loss=0.04233326]\n",
      "Validation Epoch [53/100]: 100%|██████████████████████████████████████████████████████████████████| 1/1 [00:00<00:00, 181.95it/s, val_loss=0.04201150]\n",
      "Training Epoch [54/100]: 100%|██████████████████████████████████████████████| 3/3 [00:00<00:00,  8.04it/s, train_loss=0.04195376, val_loss=0.04201150]\n",
      "Validation Epoch [54/100]: 100%|██████████████████████████████████████████████████████████████████| 1/1 [00:00<00:00, 198.90it/s, val_loss=0.04171819]\n",
      "Training Epoch [55/100]: 100%|██████████████████████████████████████████████| 3/3 [00:00<00:00,  7.04it/s, train_loss=0.04152887, val_loss=0.04171819]\n",
      "Validation Epoch [55/100]: 100%|██████████████████████████████████████████████████████████████████| 1/1 [00:00<00:00, 191.24it/s, val_loss=0.04132758]\n",
      "Training Epoch [56/100]: 100%|██████████████████████████████████████████████| 3/3 [00:00<00:00,  8.01it/s, train_loss=0.04110230, val_loss=0.04132758]\n",
      "Validation Epoch [56/100]: 100%|██████████████████████████████████████████████████████████████████| 1/1 [00:00<00:00, 182.31it/s, val_loss=0.04102512]\n",
      "Training Epoch [57/100]: 100%|██████████████████████████████████████████████| 3/3 [00:00<00:00,  8.02it/s, train_loss=0.04098834, val_loss=0.04102512]\n",
      "Validation Epoch [57/100]: 100%|██████████████████████████████████████████████████████████████████| 1/1 [00:00<00:00, 174.31it/s, val_loss=0.04123435]\n",
      "Training Epoch [58/100]: 100%|██████████████████████████████████████████████| 3/3 [00:00<00:00,  6.17it/s, train_loss=0.04108570, val_loss=0.04123435]\n",
      "Validation Epoch [58/100]: 100%|██████████████████████████████████████████████████████████████████| 1/1 [00:00<00:00, 156.17it/s, val_loss=0.04041902]\n",
      "Training Epoch [59/100]: 100%|██████████████████████████████████████████████| 3/3 [00:00<00:00,  8.09it/s, train_loss=0.04051923, val_loss=0.04041902]\n",
      "Validation Epoch [59/100]: 100%|██████████████████████████████████████████████████████████████████| 1/1 [00:00<00:00, 175.59it/s, val_loss=0.04012556]\n",
      "Training Epoch [60/100]: 100%|██████████████████████████████████████████████| 3/3 [00:00<00:00,  7.08it/s, train_loss=0.04004448, val_loss=0.04012556]\n",
      "Validation Epoch [60/100]: 100%|██████████████████████████████████████████████████████████████████| 1/1 [00:00<00:00, 174.13it/s, val_loss=0.03981234]\n",
      "Training Epoch [61/100]: 100%|██████████████████████████████████████████████| 3/3 [00:00<00:00,  8.04it/s, train_loss=0.03981576, val_loss=0.03981234]\n",
      "Validation Epoch [61/100]: 100%|██████████████████████████████████████████████████████████████████| 1/1 [00:00<00:00, 185.60it/s, val_loss=0.03954688]\n",
      "Training Epoch [62/100]: 100%|██████████████████████████████████████████████| 3/3 [00:00<00:00,  7.04it/s, train_loss=0.03949051, val_loss=0.03954688]\n",
      "Validation Epoch [62/100]: 100%|██████████████████████████████████████████████████████████████████| 1/1 [00:00<00:00, 204.95it/s, val_loss=0.03935046]\n",
      "Training Epoch [63/100]: 100%|██████████████████████████████████████████████| 3/3 [00:00<00:00,  7.99it/s, train_loss=0.03925647, val_loss=0.03935046]\n",
      "Validation Epoch [63/100]: 100%|██████████████████████████████████████████████████████████████████| 1/1 [00:00<00:00, 183.79it/s, val_loss=0.03913459]\n",
      "Training Epoch [64/100]: 100%|██████████████████████████████████████████████| 3/3 [00:00<00:00,  7.02it/s, train_loss=0.03905406, val_loss=0.03913459]\n",
      "Validation Epoch [64/100]: 100%|██████████████████████████████████████████████████████████████████| 1/1 [00:00<00:00, 211.60it/s, val_loss=0.03887014]\n",
      "Training Epoch [65/100]: 100%|██████████████████████████████████████████████| 3/3 [00:00<00:00,  8.04it/s, train_loss=0.03879918, val_loss=0.03887014]\n",
      "Validation Epoch [65/100]: 100%|██████████████████████████████████████████████████████████████████| 1/1 [00:00<00:00, 191.72it/s, val_loss=0.03861181]\n",
      "Training Epoch [66/100]: 100%|██████████████████████████████████████████████| 3/3 [00:00<00:00,  7.04it/s, train_loss=0.03859830, val_loss=0.03861181]\n",
      "Validation Epoch [66/100]: 100%|██████████████████████████████████████████████████████████████████| 1/1 [00:00<00:00, 166.80it/s, val_loss=0.03847909]\n",
      "Training Epoch [67/100]: 100%|██████████████████████████████████████████████| 3/3 [00:00<00:00,  7.10it/s, train_loss=0.03837551, val_loss=0.03847909]\n",
      "Validation Epoch [67/100]: 100%|██████████████████████████████████████████████████████████████████| 1/1 [00:00<00:00, 189.90it/s, val_loss=0.03824204]\n",
      "Training Epoch [68/100]: 100%|██████████████████████████████████████████████| 3/3 [00:00<00:00,  8.03it/s, train_loss=0.03814016, val_loss=0.03824204]\n",
      "Validation Epoch [68/100]: 100%|██████████████████████████████████████████████████████████████████| 1/1 [00:00<00:00, 196.92it/s, val_loss=0.03830313]\n",
      "Training Epoch [69/100]: 100%|██████████████████████████████████████████████| 3/3 [00:00<00:00,  7.03it/s, train_loss=0.03819293, val_loss=0.03830313]\n",
      "Validation Epoch [69/100]: 100%|██████████████████████████████████████████████████████████████████| 1/1 [00:00<00:00, 201.61it/s, val_loss=0.03777436]\n",
      "Training Epoch [70/100]: 100%|██████████████████████████████████████████████| 3/3 [00:00<00:00,  8.09it/s, train_loss=0.03761289, val_loss=0.03777436]\n",
      "Validation Epoch [70/100]: 100%|██████████████████████████████████████████████████████████████████| 1/1 [00:00<00:00, 213.16it/s, val_loss=0.03755530]\n",
      "Training Epoch [71/100]: 100%|██████████████████████████████████████████████| 3/3 [00:00<00:00,  7.05it/s, train_loss=0.03763265, val_loss=0.03755530]\n",
      "Validation Epoch [71/100]: 100%|██████████████████████████████████████████████████████████████████| 1/1 [00:00<00:00, 181.26it/s, val_loss=0.03749016]\n",
      "Training Epoch [72/100]: 100%|██████████████████████████████████████████████| 3/3 [00:00<00:00,  8.01it/s, train_loss=0.03717409, val_loss=0.03749016]\n",
      "Validation Epoch [72/100]: 100%|██████████████████████████████████████████████████████████████████| 1/1 [00:00<00:00, 156.77it/s, val_loss=0.03745683]\n",
      "Training Epoch [73/100]: 100%|██████████████████████████████████████████████| 3/3 [00:00<00:00,  7.10it/s, train_loss=0.03731173, val_loss=0.03745683]\n",
      "Validation Epoch [73/100]: 100%|██████████████████████████████████████████████████████████████████| 1/1 [00:00<00:00, 175.38it/s, val_loss=0.03687124]\n",
      "Training Epoch [74/100]: 100%|██████████████████████████████████████████████| 3/3 [00:00<00:00,  8.02it/s, train_loss=0.03685984, val_loss=0.03687124]\n",
      "Validation Epoch [74/100]: 100%|██████████████████████████████████████████████████████████████████| 1/1 [00:00<00:00, 177.24it/s, val_loss=0.03707933]\n",
      "Training Epoch [75/100]: 100%|██████████████████████████████████████████████| 3/3 [00:00<00:00,  7.04it/s, train_loss=0.03661710, val_loss=0.03707933]\n",
      "Validation Epoch [75/100]: 100%|██████████████████████████████████████████████████████████████████| 1/1 [00:00<00:00, 154.44it/s, val_loss=0.03670427]\n",
      "Training Epoch [76/100]: 100%|██████████████████████████████████████████████| 3/3 [00:00<00:00,  8.02it/s, train_loss=0.03635195, val_loss=0.03670427]\n",
      "Validation Epoch [76/100]: 100%|██████████████████████████████████████████████████████████████████| 1/1 [00:00<00:00, 184.70it/s, val_loss=0.03656257]\n",
      "Training Epoch [77/100]: 100%|██████████████████████████████████████████████| 3/3 [00:00<00:00,  7.99it/s, train_loss=0.03625936, val_loss=0.03656257]\n",
      "Validation Epoch [77/100]: 100%|██████████████████████████████████████████████████████████████████| 1/1 [00:00<00:00, 173.73it/s, val_loss=0.03605943]\n",
      "Training Epoch [78/100]: 100%|██████████████████████████████████████████████| 3/3 [00:00<00:00,  6.98it/s, train_loss=0.03597947, val_loss=0.03605943]\n",
      "Validation Epoch [78/100]: 100%|██████████████████████████████████████████████████████████████████| 1/1 [00:00<00:00, 176.67it/s, val_loss=0.03597965]\n",
      "Training Epoch [79/100]: 100%|██████████████████████████████████████████████| 3/3 [00:00<00:00,  7.89it/s, train_loss=0.03575336, val_loss=0.03597965]\n",
      "Validation Epoch [79/100]: 100%|██████████████████████████████████████████████████████████████████| 1/1 [00:00<00:00, 184.07it/s, val_loss=0.03624168]\n",
      "Training Epoch [80/100]: 100%|██████████████████████████████████████████████| 3/3 [00:00<00:00,  7.03it/s, train_loss=0.03561686, val_loss=0.03624168]\n",
      "Validation Epoch [80/100]: 100%|██████████████████████████████████████████████████████████████████| 1/1 [00:00<00:00, 184.30it/s, val_loss=0.03567269]\n",
      "Training Epoch [81/100]: 100%|██████████████████████████████████████████████| 3/3 [00:00<00:00,  8.00it/s, train_loss=0.03527795, val_loss=0.03567269]\n",
      "Validation Epoch [81/100]: 100%|██████████████████████████████████████████████████████████████████| 1/1 [00:00<00:00, 185.59it/s, val_loss=0.03558281]\n",
      "Training Epoch [82/100]: 100%|██████████████████████████████████████████████| 3/3 [00:00<00:00,  7.99it/s, train_loss=0.03510285, val_loss=0.03558281]\n",
      "Validation Epoch [82/100]: 100%|██████████████████████████████████████████████████████████████████| 1/1 [00:00<00:00, 177.65it/s, val_loss=0.03524741]\n",
      "Training Epoch [83/100]: 100%|██████████████████████████████████████████████| 3/3 [00:00<00:00,  7.10it/s, train_loss=0.03492138, val_loss=0.03524741]\n",
      "Validation Epoch [83/100]: 100%|██████████████████████████████████████████████████████████████████| 1/1 [00:00<00:00, 142.37it/s, val_loss=0.03501377]\n",
      "Training Epoch [84/100]: 100%|██████████████████████████████████████████████| 3/3 [00:00<00:00,  7.99it/s, train_loss=0.03468624, val_loss=0.03501377]\n",
      "Validation Epoch [84/100]: 100%|██████████████████████████████████████████████████████████████████| 1/1 [00:00<00:00, 194.81it/s, val_loss=0.03494999]\n",
      "Training Epoch [85/100]: 100%|██████████████████████████████████████████████| 3/3 [00:00<00:00,  7.05it/s, train_loss=0.03451204, val_loss=0.03494999]\n",
      "Validation Epoch [85/100]: 100%|██████████████████████████████████████████████████████████████████| 1/1 [00:00<00:00, 184.40it/s, val_loss=0.03484923]\n",
      "Training Epoch [86/100]: 100%|██████████████████████████████████████████████| 3/3 [00:00<00:00,  8.03it/s, train_loss=0.03436581, val_loss=0.03484923]\n",
      "Validation Epoch [86/100]: 100%|██████████████████████████████████████████████████████████████████| 1/1 [00:00<00:00, 184.30it/s, val_loss=0.03470554]\n",
      "Training Epoch [87/100]: 100%|██████████████████████████████████████████████| 3/3 [00:00<00:00,  7.00it/s, train_loss=0.03430768, val_loss=0.03470554]\n",
      "Validation Epoch [87/100]: 100%|██████████████████████████████████████████████████████████████████| 1/1 [00:00<00:00, 176.40it/s, val_loss=0.03450359]\n",
      "Training Epoch [88/100]: 100%|██████████████████████████████████████████████| 3/3 [00:00<00:00,  7.97it/s, train_loss=0.03417411, val_loss=0.03450359]\n",
      "Validation Epoch [88/100]: 100%|██████████████████████████████████████████████████████████████████| 1/1 [00:00<00:00, 176.61it/s, val_loss=0.03436054]\n",
      "Training Epoch [89/100]: 100%|██████████████████████████████████████████████| 3/3 [00:00<00:00,  7.05it/s, train_loss=0.03399526, val_loss=0.03436054]\n",
      "Validation Epoch [89/100]: 100%|██████████████████████████████████████████████████████████████████| 1/1 [00:00<00:00, 181.19it/s, val_loss=0.03432976]\n",
      "Training Epoch [90/100]: 100%|██████████████████████████████████████████████| 3/3 [00:00<00:00,  7.08it/s, train_loss=0.03386336, val_loss=0.03432976]\n",
      "Validation Epoch [90/100]: 100%|██████████████████████████████████████████████████████████████████| 1/1 [00:00<00:00, 180.77it/s, val_loss=0.03413512]\n",
      "Training Epoch [91/100]: 100%|██████████████████████████████████████████████| 3/3 [00:00<00:00,  8.01it/s, train_loss=0.03370481, val_loss=0.03413512]\n",
      "Validation Epoch [91/100]: 100%|██████████████████████████████████████████████████████████████████| 1/1 [00:00<00:00, 205.29it/s, val_loss=0.03407766]\n",
      "Training Epoch [92/100]: 100%|██████████████████████████████████████████████| 3/3 [00:00<00:00,  7.04it/s, train_loss=0.03365101, val_loss=0.03407766]\n",
      "Validation Epoch [92/100]: 100%|██████████████████████████████████████████████████████████████████| 1/1 [00:00<00:00, 172.98it/s, val_loss=0.03391117]\n",
      "Training Epoch [93/100]: 100%|██████████████████████████████████████████████| 3/3 [00:00<00:00,  7.97it/s, train_loss=0.03344255, val_loss=0.03391117]\n",
      "Validation Epoch [93/100]: 100%|██████████████████████████████████████████████████████████████████| 1/1 [00:00<00:00, 176.31it/s, val_loss=0.03381993]\n",
      "Training Epoch [94/100]: 100%|██████████████████████████████████████████████| 3/3 [00:00<00:00,  7.05it/s, train_loss=0.03340187, val_loss=0.03381993]\n",
      "Validation Epoch [94/100]: 100%|██████████████████████████████████████████████████████████████████| 1/1 [00:00<00:00, 200.66it/s, val_loss=0.03369453]\n",
      "Training Epoch [95/100]: 100%|██████████████████████████████████████████████| 3/3 [00:00<00:00,  8.04it/s, train_loss=0.03326827, val_loss=0.03369453]\n",
      "Validation Epoch [95/100]: 100%|██████████████████████████████████████████████████████████████████| 1/1 [00:00<00:00, 199.44it/s, val_loss=0.03379871]\n",
      "Training Epoch [96/100]: 100%|██████████████████████████████████████████████| 3/3 [00:00<00:00,  7.05it/s, train_loss=0.03384181, val_loss=0.03379871]\n",
      "Validation Epoch [96/100]: 100%|██████████████████████████████████████████████████████████████████| 1/1 [00:00<00:00, 190.26it/s, val_loss=0.03452834]\n",
      "Training Epoch [97/100]: 100%|██████████████████████████████████████████████| 3/3 [00:00<00:00,  8.04it/s, train_loss=0.03356122, val_loss=0.03452834]\n",
      "Validation Epoch [97/100]: 100%|██████████████████████████████████████████████████████████████████| 1/1 [00:00<00:00, 201.34it/s, val_loss=0.03399816]\n",
      "Training Epoch [98/100]: 100%|██████████████████████████████████████████████| 3/3 [00:00<00:00,  7.99it/s, train_loss=0.03335746, val_loss=0.03399816]\n",
      "Validation Epoch [98/100]: 100%|██████████████████████████████████████████████████████████████████| 1/1 [00:00<00:00, 210.53it/s, val_loss=0.03372494]\n",
      "Training Epoch [99/100]: 100%|██████████████████████████████████████████████| 3/3 [00:00<00:00,  7.00it/s, train_loss=0.03315928, val_loss=0.03372494]\n",
      "Validation Epoch [99/100]: 100%|██████████████████████████████████████████████████████████████████| 1/1 [00:00<00:00, 185.73it/s, val_loss=0.03362849]"
     ]
    },
    {
     "name": "stdout",
     "output_type": "stream",
     "text": [
      "Finished training!\n"
     ]
    },
    {
     "name": "stderr",
     "output_type": "stream",
     "text": [
      "\n"
     ]
    }
   ],
   "source": [
    "encoder_pretrained = Encoder(hparams).to(device)\n",
    "decoder = Decoder(hparams).to(device)\n",
    "autoencoder = Autoencoder(hparams, encoder_pretrained, decoder).to(device)\n",
    "\n",
    "def train_model(model, train_loader, val_loader, loss_func, tb_logger, epochs=10, name='Autoencoder'):\n",
    "    \n",
    "    optimizer = model.optimizer\n",
    "    scheduler = torch.optim.lr_scheduler.StepLR(optimizer, step_size=epochs * len(train_loader) / 5, gamma=0.7)\n",
    "    validation_loss = 0\n",
    "    model = model.to(device)\n",
    "    for epoch in range(epochs):\n",
    "        \n",
    "        # Train\n",
    "        training_loop = create_tqdm_bar(train_loader, desc=f'Training Epoch [{epoch}/{epochs}]')\n",
    "        training_loss = 0\n",
    "        for train_iteration, batch in training_loop:\n",
    "            \n",
    "            loss = model.training_step(batch, loss_func) # You need to implement this function.\n",
    "            training_loss += loss.item()\n",
    "            scheduler.step()\n",
    "\n",
    "            # Update the progress bar.\n",
    "            training_loop.set_postfix(train_loss = \"{:.8f}\".format(training_loss / (train_iteration + 1)), val_loss = \"{:.8f}\".format(validation_loss))\n",
    "\n",
    "            # Update the tensorboard logger.\n",
    "            tb_logger.add_scalar(f'{name}/train_loss', loss.item(), epoch * len(train_loader) + train_iteration)\n",
    "\n",
    "        # Validation\n",
    "        val_loop = create_tqdm_bar(val_loader, desc=f'Validation Epoch [{epoch}/{epochs}]')\n",
    "        validation_loss = 0\n",
    "        with torch.no_grad():\n",
    "            for val_iteration, batch in val_loop:\n",
    "                loss = model.validation_step(batch, loss_func) # You need to implement this function.\n",
    "                validation_loss += loss.item()\n",
    "\n",
    "                # Update the progress bar.\n",
    "                val_loop.set_postfix(val_loss = \"{:.8f}\".format(validation_loss / (val_iteration + 1)))\n",
    "\n",
    "                # Update the tensorboard logger.\n",
    "                tb_logger.add_scalar(f'{name}/val_loss', validation_loss / (val_iteration + 1), epoch * len(val_loader) + val_iteration)\n",
    "        # This value is for the progress bar of the training loop.\n",
    "        validation_loss /= len(val_loader)\n",
    "\n",
    "# Create a tensorboard logger.\n",
    "# NOTE: In order to see the logs, run the following command in the terminal: tensorboard --logdir=./\n",
    "# Also, in order to reset the logs, delete the logs folder MANUALLY.\n",
    "\n",
    "path = os.path.join('logs', 'ae_logs')\n",
    "num_of_runs = len(os.listdir(path)) if os.path.exists(path) else 0\n",
    "path = os.path.join(path, f'run_{num_of_runs + 1}')\n",
    "tb_logger = SummaryWriter(path)\n",
    "\n",
    "# Train the classifier.\n",
    "unlabled_train_loader = torch.utils.data.DataLoader(unlabeled_train, batch_size=hparams['batch_size'], shuffle=True)\n",
    "unlabled_val_loader = torch.utils.data.DataLoader(unlabeled_val, batch_size=hparams['batch_size'], shuffle=False)\n",
    "\n",
    "epochs = hparams.get('epochs', 5)\n",
    "loss_func = nn.MSELoss() # The loss function we use for regression (Could also be nn.L1Loss()).\n",
    "train_model(autoencoder, unlabled_train_loader, unlabled_val_loader, loss_func, tb_logger, epochs=epochs, name='Autoencoder')\n",
    "\n",
    "print(\"Finished training!\")"
   ]
  },
  {
   "attachments": {},
   "cell_type": "markdown",
   "metadata": {
    "id": "vdgiYWy4MNkq"
   },
   "source": [
    "Once trained, let's have a look at the reconstructed validation images (If you have not already looked at them in TensorBoard)."
   ]
  },
  {
   "cell_type": "code",
   "execution_count": 163,
   "metadata": {
    "id": "a991mKcyMNkq",
    "ExecuteTime": {
     "end_time": "2023-12-07T15:21:46.172218Z",
     "start_time": "2023-12-07T15:21:45.175451Z"
    }
   },
   "outputs": [
    {
     "data": {
      "text/plain": "<Figure size 1600x1600 with 64 Axes>",
      "image/png": "[encoded data removed]"
     },
     "metadata": {},
     "output_type": "display_data"
    }
   ],
   "source": [
    "reconstructions = autoencoder.getReconstructions(unlabled_val_loader)\n",
    "for i in range(64):\n",
    "    plt.subplot(8,8,i+1)\n",
    "    plt.axis('off')\n",
    "    plt.imshow(reconstructions[i], cmap='gray', interpolation='none')\n",
    "    \n",
    "plt.tight_layout()"
   ]
  },
  {
   "attachments": {},
   "cell_type": "markdown",
   "metadata": {
    "id": "R2hrP5b1MNkr"
   },
   "source": [
    "# 4. Transfer Learning\n",
    "\n",
    "## 4.1 The pretrained Classifier\n",
    "\n",
    "Now we initialize another classifier but this time with the pretrained encoder."
   ]
  },
  {
   "cell_type": "code",
   "execution_count": 256,
   "metadata": {
    "id": "OELYQAUmMNkr",
    "ExecuteTime": {
     "end_time": "2023-12-07T15:42:38.334391Z",
     "start_time": "2023-12-07T15:42:38.308864Z"
    }
   },
   "outputs": [],
   "source": [
    "from exercise_code.models import Classifier\n",
    "from copy import deepcopy\n",
    "\n",
    "hparams = {}\n",
    "########################################################################\n",
    "# TODO: Define your hyperparameters here!                             #\n",
    "########################################################################\n",
    "\n",
    "hparams = {\n",
    "    \"batch_size\": 2048,\n",
    "    \"classifier_learning_rate\": 0.004,\n",
    "    \"autoencoder_learning_rate\": 0.01,\n",
    "    \"n_hidden\": 300,\n",
    "    \"input_size\": 28 * 28,\n",
    "    \"num_classes\": 10,\n",
    "    \"num_workers\": 2,\n",
    "    \"device\": device,\n",
    "    \"epochs\": 50\n",
    "}\n",
    "\n",
    "########################################################################\n",
    "#                           END OF YOUR CODE                           #\n",
    "########################################################################\n",
    "\n",
    "encoder_pretrained_copy = deepcopy(encoder_pretrained)\n",
    "classifier_pretrained = Classifier(hparams, encoder_pretrained_copy).to(device)"
   ]
  },
  {
   "attachments": {},
   "cell_type": "markdown",
   "metadata": {
    "id": "R8FUtih6MNks"
   },
   "source": [
    "Let's define another trainer that will utilize the pretrained classifier, allowing us to compare its performance with the classifier trained only on the labeled data. To achieve a reasonable result, you may need to optimize the parameters you defined earlier."
   ]
  },
  {
   "cell_type": "code",
   "execution_count": 257,
   "metadata": {
    "id": "Mx_euorWMNks",
    "ExecuteTime": {
     "end_time": "2023-12-07T15:42:49.963239Z",
     "start_time": "2023-12-07T15:42:38.833766Z"
    }
   },
   "outputs": [
    {
     "name": "stderr",
     "output_type": "stream",
     "text": [
      "Training Epoch [1/50]: 100%|███████████████████████████████████████████| 1/1 [00:00<00:00,  9.05it/s, curr_train_loss=2.31918502, val_loss=0.00000000]\n",
      "Validation Epoch [1/50]: 100%|█████████████████████████████████████████████████████████████████████| 1/1 [00:00<00:00,  9.26it/s, val_loss=2.18944478]\n",
      "Training Epoch [2/50]: 100%|███████████████████████████████████████████| 1/1 [00:00<00:00,  9.10it/s, curr_train_loss=2.10082650, val_loss=2.18944478]\n",
      "Validation Epoch [2/50]: 100%|█████████████████████████████████████████████████████████████████████| 1/1 [00:00<00:00,  9.52it/s, val_loss=2.10810018]\n",
      "Training Epoch [3/50]: 100%|███████████████████████████████████████████| 1/1 [00:00<00:00,  9.06it/s, curr_train_loss=1.94035518, val_loss=2.10810018]\n",
      "Validation Epoch [3/50]: 100%|█████████████████████████████████████████████████████████████████████| 1/1 [00:00<00:00,  9.43it/s, val_loss=2.04627180]\n",
      "Training Epoch [4/50]: 100%|███████████████████████████████████████████| 1/1 [00:00<00:00,  9.11it/s, curr_train_loss=1.77090597, val_loss=2.04627180]\n",
      "Validation Epoch [4/50]: 100%|█████████████████████████████████████████████████████████████████████| 1/1 [00:00<00:00,  9.26it/s, val_loss=2.00200129]\n",
      "Training Epoch [5/50]: 100%|███████████████████████████████████████████| 1/1 [00:00<00:00,  9.18it/s, curr_train_loss=1.72957158, val_loss=2.00200129]\n",
      "Validation Epoch [5/50]: 100%|█████████████████████████████████████████████████████████████████████| 1/1 [00:00<00:00,  9.28it/s, val_loss=1.96305454]\n",
      "Training Epoch [6/50]: 100%|███████████████████████████████████████████| 1/1 [00:00<00:00,  9.12it/s, curr_train_loss=1.60406053, val_loss=1.96305454]\n",
      "Validation Epoch [6/50]: 100%|█████████████████████████████████████████████████████████████████████| 1/1 [00:00<00:00,  9.27it/s, val_loss=1.92564929]\n",
      "Training Epoch [7/50]: 100%|███████████████████████████████████████████| 1/1 [00:00<00:00,  9.12it/s, curr_train_loss=1.55722952, val_loss=1.92564929]\n",
      "Validation Epoch [7/50]: 100%|█████████████████████████████████████████████████████████████████████| 1/1 [00:00<00:00,  9.65it/s, val_loss=1.87622118]\n",
      "Training Epoch [8/50]: 100%|███████████████████████████████████████████| 1/1 [00:00<00:00,  9.08it/s, curr_train_loss=1.53196549, val_loss=1.87622118]\n",
      "Validation Epoch [8/50]: 100%|█████████████████████████████████████████████████████████████████████| 1/1 [00:00<00:00,  9.24it/s, val_loss=1.82367992]\n",
      "Training Epoch [9/50]: 100%|███████████████████████████████████████████| 1/1 [00:00<00:00,  9.28it/s, curr_train_loss=1.45932651, val_loss=1.82367992]\n",
      "Validation Epoch [9/50]: 100%|█████████████████████████████████████████████████████████████████████| 1/1 [00:00<00:00,  9.64it/s, val_loss=1.75808656]\n",
      "Training Epoch [10/50]: 100%|██████████████████████████████████████████| 1/1 [00:00<00:00,  9.35it/s, curr_train_loss=1.36458695, val_loss=1.75808656]\n",
      "Validation Epoch [10/50]: 100%|████████████████████████████████████████████████████████████████████| 1/1 [00:00<00:00,  9.25it/s, val_loss=1.68295574]\n",
      "Training Epoch [11/50]: 100%|██████████████████████████████████████████| 1/1 [00:00<00:00,  9.04it/s, curr_train_loss=1.41940320, val_loss=1.68295574]\n",
      "Validation Epoch [11/50]: 100%|████████████████████████████████████████████████████████████████████| 1/1 [00:00<00:00,  9.19it/s, val_loss=1.60377085]\n",
      "Training Epoch [12/50]: 100%|██████████████████████████████████████████| 1/1 [00:00<00:00,  8.95it/s, curr_train_loss=1.26015627, val_loss=1.60377085]\n",
      "Validation Epoch [12/50]: 100%|████████████████████████████████████████████████████████████████████| 1/1 [00:00<00:00,  9.16it/s, val_loss=1.53234589]\n",
      "Training Epoch [13/50]: 100%|██████████████████████████████████████████| 1/1 [00:00<00:00,  8.97it/s, curr_train_loss=1.14394498, val_loss=1.53234589]\n",
      "Validation Epoch [13/50]: 100%|████████████████████████████████████████████████████████████████████| 1/1 [00:00<00:00,  9.18it/s, val_loss=1.46553206]\n",
      "Training Epoch [14/50]: 100%|██████████████████████████████████████████| 1/1 [00:00<00:00,  8.98it/s, curr_train_loss=1.23667467, val_loss=1.46553206]\n",
      "Validation Epoch [14/50]: 100%|████████████████████████████████████████████████████████████████████| 1/1 [00:00<00:00,  9.15it/s, val_loss=1.40373766]\n",
      "Training Epoch [15/50]: 100%|██████████████████████████████████████████| 1/1 [00:00<00:00,  9.36it/s, curr_train_loss=1.23301792, val_loss=1.40373766]\n",
      "Validation Epoch [15/50]: 100%|████████████████████████████████████████████████████████████████████| 1/1 [00:00<00:00,  9.51it/s, val_loss=1.34922612]\n",
      "Training Epoch [16/50]: 100%|██████████████████████████████████████████| 1/1 [00:00<00:00,  9.28it/s, curr_train_loss=1.22489285, val_loss=1.34922612]\n",
      "Validation Epoch [16/50]: 100%|████████████████████████████████████████████████████████████████████| 1/1 [00:00<00:00,  9.17it/s, val_loss=1.30171371]\n",
      "Training Epoch [17/50]: 100%|██████████████████████████████████████████| 1/1 [00:00<00:00,  9.17it/s, curr_train_loss=1.13429570, val_loss=1.30171371]\n",
      "Validation Epoch [17/50]: 100%|████████████████████████████████████████████████████████████████████| 1/1 [00:00<00:00,  9.16it/s, val_loss=1.26829398]\n",
      "Training Epoch [18/50]: 100%|██████████████████████████████████████████| 1/1 [00:00<00:00,  9.36it/s, curr_train_loss=1.01978564, val_loss=1.26829398]\n",
      "Validation Epoch [18/50]: 100%|████████████████████████████████████████████████████████████████████| 1/1 [00:00<00:00,  9.20it/s, val_loss=1.24148035]\n",
      "Training Epoch [19/50]: 100%|██████████████████████████████████████████| 1/1 [00:00<00:00,  8.93it/s, curr_train_loss=1.03661704, val_loss=1.24148035]\n",
      "Validation Epoch [19/50]: 100%|████████████████████████████████████████████████████████████████████| 1/1 [00:00<00:00,  9.17it/s, val_loss=1.21979821]\n",
      "Training Epoch [20/50]: 100%|██████████████████████████████████████████| 1/1 [00:00<00:00,  8.98it/s, curr_train_loss=0.96353918, val_loss=1.21979821]\n",
      "Validation Epoch [20/50]: 100%|████████████████████████████████████████████████████████████████████| 1/1 [00:00<00:00,  9.26it/s, val_loss=1.20125353]\n",
      "Training Epoch [21/50]: 100%|██████████████████████████████████████████| 1/1 [00:00<00:00,  8.97it/s, curr_train_loss=1.04819179, val_loss=1.20125353]\n",
      "Validation Epoch [21/50]: 100%|████████████████████████████████████████████████████████████████████| 1/1 [00:00<00:00,  9.13it/s, val_loss=1.19090211]\n",
      "Training Epoch [22/50]: 100%|██████████████████████████████████████████| 1/1 [00:00<00:00,  9.36it/s, curr_train_loss=1.02057850, val_loss=1.19090211]\n",
      "Validation Epoch [22/50]: 100%|████████████████████████████████████████████████████████████████████| 1/1 [00:00<00:00,  9.19it/s, val_loss=1.18035412]\n",
      "Training Epoch [23/50]: 100%|██████████████████████████████████████████| 1/1 [00:00<00:00,  8.99it/s, curr_train_loss=0.98158568, val_loss=1.18035412]\n",
      "Validation Epoch [23/50]: 100%|████████████████████████████████████████████████████████████████████| 1/1 [00:00<00:00,  9.35it/s, val_loss=1.17937243]\n",
      "Training Epoch [24/50]: 100%|██████████████████████████████████████████| 1/1 [00:00<00:00,  9.18it/s, curr_train_loss=0.99492532, val_loss=1.17937243]\n",
      "Validation Epoch [24/50]: 100%|████████████████████████████████████████████████████████████████████| 1/1 [00:00<00:00,  9.17it/s, val_loss=1.17858076]\n",
      "Training Epoch [25/50]: 100%|██████████████████████████████████████████| 1/1 [00:00<00:00,  9.25it/s, curr_train_loss=0.92921263, val_loss=1.17858076]\n",
      "Validation Epoch [25/50]: 100%|████████████████████████████████████████████████████████████████████| 1/1 [00:00<00:00,  9.17it/s, val_loss=1.17443824]\n",
      "Training Epoch [26/50]: 100%|██████████████████████████████████████████| 1/1 [00:00<00:00,  8.98it/s, curr_train_loss=0.88077825, val_loss=1.17443824]\n",
      "Validation Epoch [26/50]: 100%|████████████████████████████████████████████████████████████████████| 1/1 [00:00<00:00,  9.32it/s, val_loss=1.17235065]\n",
      "Training Epoch [27/50]: 100%|██████████████████████████████████████████| 1/1 [00:00<00:00,  9.03it/s, curr_train_loss=0.84137648, val_loss=1.17235065]\n",
      "Validation Epoch [27/50]: 100%|████████████████████████████████████████████████████████████████████| 1/1 [00:00<00:00,  9.17it/s, val_loss=1.16836262]\n",
      "Training Epoch [28/50]: 100%|██████████████████████████████████████████| 1/1 [00:00<00:00,  8.96it/s, curr_train_loss=0.91817933, val_loss=1.16836262]\n",
      "Validation Epoch [28/50]: 100%|████████████████████████████████████████████████████████████████████| 1/1 [00:00<00:00,  9.15it/s, val_loss=1.16061687]\n",
      "Training Epoch [29/50]: 100%|██████████████████████████████████████████| 1/1 [00:00<00:00,  9.03it/s, curr_train_loss=0.77523237, val_loss=1.16061687]\n",
      "Validation Epoch [29/50]: 100%|████████████████████████████████████████████████████████████████████| 1/1 [00:00<00:00,  9.15it/s, val_loss=1.15315557]\n",
      "Training Epoch [30/50]: 100%|██████████████████████████████████████████| 1/1 [00:00<00:00,  8.96it/s, curr_train_loss=0.89827436, val_loss=1.15315557]\n",
      "Validation Epoch [30/50]: 100%|████████████████████████████████████████████████████████████████████| 1/1 [00:00<00:00,  9.16it/s, val_loss=1.15006876]\n",
      "Training Epoch [31/50]: 100%|██████████████████████████████████████████| 1/1 [00:00<00:00,  8.95it/s, curr_train_loss=0.81360734, val_loss=1.15006876]\n",
      "Validation Epoch [31/50]: 100%|████████████████████████████████████████████████████████████████████| 1/1 [00:00<00:00,  9.16it/s, val_loss=1.14818907]\n",
      "Training Epoch [32/50]: 100%|██████████████████████████████████████████| 1/1 [00:00<00:00,  9.03it/s, curr_train_loss=0.82645255, val_loss=1.14818907]\n",
      "Validation Epoch [32/50]: 100%|████████████████████████████████████████████████████████████████████| 1/1 [00:00<00:00,  9.29it/s, val_loss=1.14281845]\n",
      "Training Epoch [33/50]: 100%|██████████████████████████████████████████| 1/1 [00:00<00:00,  9.12it/s, curr_train_loss=0.70588142, val_loss=1.14281845]\n",
      "Validation Epoch [33/50]: 100%|████████████████████████████████████████████████████████████████████| 1/1 [00:00<00:00,  9.24it/s, val_loss=1.13885021]\n",
      "Training Epoch [34/50]: 100%|██████████████████████████████████████████| 1/1 [00:00<00:00,  9.02it/s, curr_train_loss=0.85462821, val_loss=1.13885021]\n",
      "Validation Epoch [34/50]: 100%|████████████████████████████████████████████████████████████████████| 1/1 [00:00<00:00,  9.17it/s, val_loss=1.13510680]\n",
      "Training Epoch [35/50]: 100%|██████████████████████████████████████████| 1/1 [00:00<00:00,  9.00it/s, curr_train_loss=0.83441252, val_loss=1.13510680]\n",
      "Validation Epoch [35/50]: 100%|████████████████████████████████████████████████████████████████████| 1/1 [00:00<00:00,  9.68it/s, val_loss=1.12900960]\n",
      "Training Epoch [36/50]: 100%|██████████████████████████████████████████| 1/1 [00:00<00:00,  9.45it/s, curr_train_loss=0.77333373, val_loss=1.12900960]\n",
      "Validation Epoch [36/50]: 100%|████████████████████████████████████████████████████████████████████| 1/1 [00:00<00:00,  9.22it/s, val_loss=1.11879539]\n",
      "Training Epoch [37/50]: 100%|██████████████████████████████████████████| 1/1 [00:00<00:00,  9.03it/s, curr_train_loss=0.78114229, val_loss=1.11879539]\n",
      "Validation Epoch [37/50]: 100%|████████████████████████████████████████████████████████████████████| 1/1 [00:00<00:00,  9.55it/s, val_loss=1.11069059]\n",
      "Training Epoch [38/50]: 100%|██████████████████████████████████████████| 1/1 [00:00<00:00,  9.34it/s, curr_train_loss=0.69436783, val_loss=1.11069059]\n",
      "Validation Epoch [38/50]: 100%|████████████████████████████████████████████████████████████████████| 1/1 [00:00<00:00,  9.21it/s, val_loss=1.10536575]\n",
      "Training Epoch [39/50]: 100%|██████████████████████████████████████████| 1/1 [00:00<00:00,  8.95it/s, curr_train_loss=0.69978845, val_loss=1.10536575]\n",
      "Validation Epoch [39/50]: 100%|████████████████████████████████████████████████████████████████████| 1/1 [00:00<00:00,  9.34it/s, val_loss=1.10190499]\n",
      "Training Epoch [40/50]: 100%|██████████████████████████████████████████| 1/1 [00:00<00:00,  8.99it/s, curr_train_loss=0.62263972, val_loss=1.10190499]\n",
      "Validation Epoch [40/50]: 100%|████████████████████████████████████████████████████████████████████| 1/1 [00:00<00:00,  9.18it/s, val_loss=1.10017121]\n",
      "Training Epoch [41/50]: 100%|██████████████████████████████████████████| 1/1 [00:00<00:00,  8.98it/s, curr_train_loss=0.73884547, val_loss=1.10017121]\n",
      "Validation Epoch [41/50]: 100%|████████████████████████████████████████████████████████████████████| 1/1 [00:00<00:00,  9.15it/s, val_loss=1.10255527]\n",
      "Training Epoch [42/50]: 100%|██████████████████████████████████████████| 1/1 [00:00<00:00,  9.02it/s, curr_train_loss=0.73068929, val_loss=1.10255527]\n",
      "Validation Epoch [42/50]: 100%|████████████████████████████████████████████████████████████████████| 1/1 [00:00<00:00,  9.22it/s, val_loss=1.10876918]\n",
      "Training Epoch [43/50]: 100%|██████████████████████████████████████████| 1/1 [00:00<00:00,  9.20it/s, curr_train_loss=0.85552347, val_loss=1.10876918]\n",
      "Validation Epoch [43/50]: 100%|████████████████████████████████████████████████████████████████████| 1/1 [00:00<00:00,  9.16it/s, val_loss=1.10746527]\n",
      "Training Epoch [44/50]: 100%|██████████████████████████████████████████| 1/1 [00:00<00:00,  9.24it/s, curr_train_loss=0.77569228, val_loss=1.10746527]\n",
      "Validation Epoch [44/50]: 100%|████████████████████████████████████████████████████████████████████| 1/1 [00:00<00:00,  9.17it/s, val_loss=1.10548198]\n",
      "Training Epoch [45/50]: 100%|██████████████████████████████████████████| 1/1 [00:00<00:00,  9.01it/s, curr_train_loss=0.77085257, val_loss=1.10548198]\n",
      "Validation Epoch [45/50]: 100%|████████████████████████████████████████████████████████████████████| 1/1 [00:00<00:00,  9.15it/s, val_loss=1.10355854]\n",
      "Training Epoch [46/50]: 100%|██████████████████████████████████████████| 1/1 [00:00<00:00,  9.23it/s, curr_train_loss=0.69506246, val_loss=1.10355854]\n",
      "Validation Epoch [46/50]: 100%|████████████████████████████████████████████████████████████████████| 1/1 [00:00<00:00,  9.16it/s, val_loss=1.09773338]\n",
      "Training Epoch [47/50]: 100%|██████████████████████████████████████████| 1/1 [00:00<00:00,  8.99it/s, curr_train_loss=0.78682375, val_loss=1.09773338]\n",
      "Validation Epoch [47/50]: 100%|████████████████████████████████████████████████████████████████████| 1/1 [00:00<00:00,  9.19it/s, val_loss=1.09515202]\n",
      "Training Epoch [48/50]: 100%|██████████████████████████████████████████| 1/1 [00:00<00:00,  9.02it/s, curr_train_loss=0.65179741, val_loss=1.09515202]\n",
      "Validation Epoch [48/50]: 100%|████████████████████████████████████████████████████████████████████| 1/1 [00:00<00:00,  9.17it/s, val_loss=1.08669496]\n",
      "Training Epoch [49/50]: 100%|██████████████████████████████████████████| 1/1 [00:00<00:00,  9.00it/s, curr_train_loss=0.68913871, val_loss=1.08669496]\n",
      "Validation Epoch [49/50]: 100%|████████████████████████████████████████████████████████████████████| 1/1 [00:00<00:00,  9.19it/s, val_loss=1.07521129]\n",
      "Training Epoch [50/50]: 100%|██████████████████████████████████████████| 1/1 [00:00<00:00,  9.04it/s, curr_train_loss=0.62634635, val_loss=1.07521129]\n",
      "Validation Epoch [50/50]: 100%|████████████████████████████████████████████████████████████████████| 1/1 [00:00<00:00,  9.18it/s, val_loss=1.06116331]"
     ]
    },
    {
     "name": "stdout",
     "output_type": "stream",
     "text": [
      "Finished training!\n"
     ]
    },
    {
     "name": "stderr",
     "output_type": "stream",
     "text": [
      "\n"
     ]
    }
   ],
   "source": [
    "\n",
    "# Create a tensorboard logger.\n",
    "# NOTE: In order to see the logs, run the following command in the terminal: tensorboard --logdir=./\n",
    "# Also, in order to reset the logs, delete the logs folder MANUALLY.\n",
    "# Pay attention that if you run this cell mutltiple times, the pretrained_encoder\n",
    "# is not reset, and will keep training from where it stopped. Thus, it could overfit.\n",
    "\n",
    "path = os.path.join('logs', 'pretrained_cls_logs')\n",
    "num_of_runs = len(os.listdir(path)) if os.path.exists(path) else 0\n",
    "path = os.path.join(path, f'run_{num_of_runs + 1}')\n",
    "tb_logger = SummaryWriter(path)\n",
    "\n",
    "batch_size = hparams.get('batch_size', 16)\n",
    "labled_train_loader = torch.utils.data.DataLoader(train_100_dataset, batch_size=batch_size, shuffle=True)\n",
    "labled_val_loader = torch.utils.data.DataLoader(val_100_dataset, batch_size=batch_size, shuffle=False)\n",
    "\n",
    "epochs = hparams.get('epochs', 20)\n",
    "loss_func = nn.CrossEntropyLoss() # The loss function we use for classification.\n",
    "train_classifier(classifier_pretrained, labled_train_loader, labled_val_loader, loss_func, tb_logger, epochs=epochs, name='Pretrained')\n",
    "\n",
    "print(\"Finished training!\") "
   ]
  },
  {
   "cell_type": "markdown",
   "source": [],
   "metadata": {
    "collapsed": false
   }
  },
  {
   "attachments": {},
   "cell_type": "markdown",
   "metadata": {
    "id": "H-pm1MY_MNks"
   },
   "source": [
    "Let's have a look at the validation accuracy of the two different classifiers and compare them. And don't forget that you can also monitor your training in TensorBoard.\n",
    "\n",
    "We will only look at the test accuracy and compare our two classifiers with respect to that in the very end."
   ]
  },
  {
   "cell_type": "code",
   "execution_count": 258,
   "metadata": {
    "id": "-e5Bd9KLMNkt",
    "ExecuteTime": {
     "end_time": "2023-12-07T15:42:53.130484Z",
     "start_time": "2023-12-07T15:42:53.094079Z"
    }
   },
   "outputs": [
    {
     "name": "stdout",
     "output_type": "stream",
     "text": [
      "Validation accuracy when training from scratch: \u001B[91m33.0\u001B[0m%\n",
      "Validation accuracy with pretraining: \u001B[92m70.0\u001B[0m%\n"
     ]
    }
   ],
   "source": [
    "val_acc_scracth = classifier.getAcc(labled_val_loader)[1]*100\n",
    "color = 'green' if val_acc_scracth > 55 else 'red'\n",
    "print(f\"Validation accuracy when training from scratch: {bcolors.colorize(color, val_acc_scracth)}%\")\n",
    "\n",
    "val_acc_pretrained = classifier_pretrained.getAcc(labled_val_loader)[1]*100\n",
    "color = 'green' if val_acc_pretrained > 55 else 'red'\n",
    "print(f\"Validation accuracy with pretraining: {bcolors.colorize(color, val_acc_pretrained)}%\")\n",
    "\n",
    "\n"
   ]
  },
  {
   "attachments": {},
   "cell_type": "markdown",
   "metadata": {
    "id": "zAp2OTyf4_5b"
   },
   "source": [
    "Now that everything is working, feel free to play around with different architectures. As you've seen, it's quite easy to define your model or do adpations there.\n",
    "\n",
    "To pass this submission, you will need to achieve an accuracy of **55%**."
   ]
  },
  {
   "attachments": {},
   "cell_type": "markdown",
   "metadata": {
    "id": "OmEYmRT-5S-e"
   },
   "source": [
    "# Save your model & Report Test Accuracy\n",
    "\n",
    "When you are finally done with your **hyperparameter tuning**, achieved **at least 55% validation accuracy** and are happy with your final model, you can save it here.\n",
    "\n",
    "Before that, please check again whether the number of parameters is below 5 Mio and the file size is below 20 MB.\n",
    "\n",
    "Once your final model is saved, we'll finally report the test accuracy."
   ]
  },
  {
   "cell_type": "code",
   "execution_count": 259,
   "metadata": {
    "id": "S69ETKxD5TcE",
    "ExecuteTime": {
     "end_time": "2023-12-07T15:42:55.425938Z",
     "start_time": "2023-12-07T15:42:55.371657Z"
    }
   },
   "outputs": [
    {
     "name": "stdout",
     "output_type": "stream",
     "text": [
      "Test accuracy when training from scratch: \u001B[91m31.0\u001B[0m%\n",
      "Test accuracy with pretraining: \u001B[92m68.0\u001B[0m%\n",
      "Validation Accuracy: \u001B[92m70.0\u001B[0m%\n",
      "# Paramters: Your model has \u001B[92m0.129\u001B[0m mio. params.\n",
      "Size: Great! Your model size is \u001B[92m1.0\u001B[0m MB and is less than 20 MB.\n",
      "Your model has been saved and is ready to be submitted.\n"
     ]
    }
   ],
   "source": [
    "from exercise_code.Util import test_and_save\n",
    "test_dl = torch.utils.data.DataLoader(test_100_dataset, batch_size=4, shuffle=False)\n",
    "\n",
    "test_acc = classifier.getAcc(test_dl)[1]*100\n",
    "color = 'green' if test_acc > 55 else 'red'\n",
    "print(f\"Test accuracy when training from scratch: {bcolors.colorize(color, test_acc)}%\")\n",
    "\n",
    "test_acc = classifier_pretrained.getAcc(test_dl)[1]*100\n",
    "color = 'green' if test_acc > 55 else 'red'\n",
    "print(f\"Test accuracy with pretraining: {bcolors.colorize(color, test_acc)}%\")\n",
    "\n",
    "test_and_save(classifier_pretrained, labled_val_loader, test_dl)"
   ]
  },
  {
   "cell_type": "code",
   "execution_count": 260,
   "metadata": {
    "id": "enZCnGL6MNkt",
    "ExecuteTime": {
     "end_time": "2023-12-07T15:43:10.185937Z",
     "start_time": "2023-12-07T15:43:10.136302Z"
    }
   },
   "outputs": [
    {
     "name": "stdout",
     "output_type": "stream",
     "text": [
      "relevant folders: ['exercise_code', 'models']\n",
      "notebooks files: ['1_Autoencoder.ipynb', 'Optional-BatchNormalization_Dropout.ipynb']\n",
      "Adding folder exercise_code\n",
      "Adding folder models\n",
      "Adding notebook 1_Autoencoder.ipynb\n",
      "Adding notebook Optional-BatchNormalization_Dropout.ipynb\n",
      "Zipping successful! Zip is stored under: /Users/michaelfuest/Projects/Uni/I2DL/output/exercise_08.zip\n"
     ]
    }
   ],
   "source": [
    "# Now zip the folder for upload\n",
    "from exercise_code.submit import submit_exercise\n",
    "\n",
    "submit_exercise('../output/exercise_08')"
   ]
  },
  {
   "attachments": {},
   "cell_type": "markdown",
   "metadata": {
    "id": "7fuo3Tf9MNku",
    "pycharm": {
     "name": "#%% md\n"
    }
   },
   "source": [
    "Congratulations on completing your first autoencoder and successfully transferring the weights to a classifier! It's remarkable how much easier this process becomes with the power of PyTorch, compared to working with plain NumPy, right?\n",
    "\n",
    "To complete the exercise, please submit your final model to [our submission portal](https://i2dl.vc.in.tum.de/) - you should be already familiar with the submission procedure. Next, it is time to get started with some more complex neural networks and tasks in the upcoming exercises. See you next week!\n",
    "\n",
    "# Submission Goals\n",
    "\n",
    "- Goal: Successfully implement a fully connected autoencoder for MNIST with Pytorch and transfer the encoder weights to a classifier.\n",
    "\n",
    "- Passing Criteria: There are no unit tests that check specific components of your code. The only thing that's required to pass the submission, is your model to reach at least **55% accuracy** on __our__ test dataset. The submission system will show you a number between 0 and 100 which corresponds to your accuracy.\n",
    "\n",
    "\n",
    "- You can make **$\\infty$** submissions until the deadline. Your __best submission__ will be considered for the bonus."
   ]
  },
  {
   "cell_type": "code",
   "execution_count": null,
   "outputs": [],
   "source": [],
   "metadata": {
    "collapsed": false
   }
  }
 ],
 "metadata": {
  "accelerator": "GPU",
  "colab": {
   "provenance": []
  },
  "kernelspec": {
   "display_name": "Python 3",
   "language": "python",
   "name": "python3"
  },
  "language_info": {
   "codemirror_mode": {
    "name": "ipython",
    "version": 3
   },
   "file_extension": ".py",
   "mimetype": "text/x-python",
   "name": "python",
   "nbconvert_exporter": "python",
   "pygments_lexer": "ipython3",
   "version": "3.10.10"
  },
  "vscode": {
   "interpreter": {
    "hash": "54970da6898dad277dbf355945c2dee7f942d2a31ec1fc1455b6d4f552d07b83"
   }
  }
 },
 "nbformat": 4,
 "nbformat_minor": 1
}
